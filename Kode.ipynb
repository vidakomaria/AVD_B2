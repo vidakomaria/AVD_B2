{
 "cells": [
  {
   "cell_type": "code",
   "execution_count": 70,
   "metadata": {},
   "outputs": [],
   "source": [
    "import pandas as pd\n",
    "import plotly.express as px"
   ]
  },
  {
   "cell_type": "code",
   "execution_count": 71,
   "id": "93b9495e",
   "metadata": {},
   "outputs": [],
   "source": [
    "df = pd.read_csv('Data Covid Jember.csv')"
   ]
  },
  {
   "cell_type": "code",
   "execution_count": 72,
   "id": "0bdc3200",
   "metadata": {},
   "outputs": [
    {
     "data": {
      "text/html": [
       "<div>\n",
       "<style scoped>\n",
       "    .dataframe tbody tr th:only-of-type {\n",
       "        vertical-align: middle;\n",
       "    }\n",
       "\n",
       "    .dataframe tbody tr th {\n",
       "        vertical-align: top;\n",
       "    }\n",
       "\n",
       "    .dataframe thead th {\n",
       "        text-align: right;\n",
       "    }\n",
       "</style>\n",
       "<table border=\"1\" class=\"dataframe\">\n",
       "  <thead>\n",
       "    <tr style=\"text-align: right;\">\n",
       "      <th></th>\n",
       "      <th>waktu</th>\n",
       "      <th>Xt</th>\n",
       "    </tr>\n",
       "  </thead>\n",
       "  <tbody>\n",
       "    <tr>\n",
       "      <th>0</th>\n",
       "      <td>23/Aug</td>\n",
       "      <td>876</td>\n",
       "    </tr>\n",
       "    <tr>\n",
       "      <th>1</th>\n",
       "      <td>24/Aug</td>\n",
       "      <td>810</td>\n",
       "    </tr>\n",
       "    <tr>\n",
       "      <th>2</th>\n",
       "      <td>25/Aug</td>\n",
       "      <td>724</td>\n",
       "    </tr>\n",
       "    <tr>\n",
       "      <th>3</th>\n",
       "      <td>26/Aug</td>\n",
       "      <td>579</td>\n",
       "    </tr>\n",
       "    <tr>\n",
       "      <th>4</th>\n",
       "      <td>27/Aug</td>\n",
       "      <td>480</td>\n",
       "    </tr>\n",
       "  </tbody>\n",
       "</table>\n",
       "</div>"
      ],
      "text/plain": [
       "    waktu   Xt\n",
       "0  23/Aug  876\n",
       "1  24/Aug  810\n",
       "2  25/Aug  724\n",
       "3  26/Aug  579\n",
       "4  27/Aug  480"
      ]
     },
     "execution_count": 72,
     "metadata": {},
     "output_type": "execute_result"
    }
   ],
   "source": [
    "des = pd.DataFrame()\n",
    "des['waktu']    = df['Tgl/Bulan']\n",
    "des['Xt']       = df['Jumlah Kasus Aktif']\n",
    "des.set_index('waktu')\n",
    "des.head()\n",
    "# des.iloc[-1]"
   ]
  },
  {
   "cell_type": "code",
   "execution_count": 73,
   "id": "3b6da2dc",
   "metadata": {},
   "outputs": [
    {
     "name": "stderr",
     "output_type": "stream",
     "text": [
      "C:\\Users\\WINDOWS\\AppData\\Local\\Programs\\Python\\Python39\\lib\\site-packages\\pandas\\core\\indexing.py:1732: SettingWithCopyWarning:\n",
      "\n",
      "\n",
      "A value is trying to be set on a copy of a slice from a DataFrame\n",
      "\n",
      "See the caveats in the documentation: https://pandas.pydata.org/pandas-docs/stable/user_guide/indexing.html#returning-a-view-versus-a-copy\n",
      "\n"
     ]
    }
   ],
   "source": [
    "mape    = 100\n",
    "alpha   = 0\n",
    "des[['St','St2','a','b','Ft+m','Yt-Ft']]   = ''\n",
    "for i in range(10,100,1):\n",
    "    x = i/100\n",
    "\n",
    "    # first row\n",
    "    des['St'].iloc[0] = des['Xt'].iloc[0]\n",
    "    des['St2'].iloc[0] = des['Xt'].iloc[0]\n",
    "    des['a'].iloc[0] = des['Xt'].iloc[0]\n",
    "    des['b'].iloc[0] = 0\n",
    "\n",
    "    for i in range(1,len(des)):\n",
    "        St      = (x * (des['Xt'].iloc[i])) + ((1-x) * (des['St'].iloc[i-1]))\n",
    "        St2     = (x * St) + ((1-x) * (des['St2'].iloc[i-1]))\n",
    "        a       = (2 * St) - St2\n",
    "        b       = x / (1-x) * (St - St2)\n",
    "        Ftm     = des['a'].iloc[i-1] + (des['b'].iloc[i-1]*1)\n",
    "\n",
    "        ytFt   = abs((des['Xt'].iloc[i]-Ftm)/des['Xt'].iloc[i])\n",
    "\n",
    "        des['St'].iloc[i]   = St\n",
    "        des['St2'].iloc[i]  = St2\n",
    "        des['a'].iloc[i]    = a\n",
    "        des['b'].iloc[i]    = b\n",
    "        des['Ft+m'].iloc[i] = Ftm\n",
    "        des['Yt-Ft'].iloc[i]= ytFt\n",
    "\n",
    "    m       = pd.DataFrame(des['Yt-Ft'])\n",
    "    m       = m.replace('',0)\n",
    "    total   = m['Yt-Ft'].sum()\n",
    "    n       = m['Yt-Ft'].count()\n",
    "    newMape = total/(n-1)*100\n",
    "\n",
    "    # total\n",
    "    # break\n",
    "    # n\n",
    "    newMape\n",
    "    if (newMape<mape):\n",
    "        alpha   = x\n",
    "        mape    = newMape\n",
    "\n",
    "# print(mape)\n",
    "# des.head()"
   ]
  },
  {
   "cell_type": "code",
   "execution_count": 76,
   "id": "356a7877",
   "metadata": {},
   "outputs": [
    {
     "name": "stdout",
     "output_type": "stream",
     "text": [
      "Nilai Mape Terkecil = 11.081041688111789 \n",
      "Nilai Alpha =  0.64\n"
     ]
    }
   ],
   "source": [
    "print('Nilai Mape Terkecil =',mape, '\\nNilai Alpha = ',alpha)"
   ]
  },
  {
   "cell_type": "code",
   "execution_count": 77,
   "id": "7c6ff548",
   "metadata": {},
   "outputs": [
    {
     "data": {
      "text/html": [
       "<div>\n",
       "<style scoped>\n",
       "    .dataframe tbody tr th:only-of-type {\n",
       "        vertical-align: middle;\n",
       "    }\n",
       "\n",
       "    .dataframe tbody tr th {\n",
       "        vertical-align: top;\n",
       "    }\n",
       "\n",
       "    .dataframe thead th {\n",
       "        text-align: right;\n",
       "    }\n",
       "</style>\n",
       "<table border=\"1\" class=\"dataframe\">\n",
       "  <thead>\n",
       "    <tr style=\"text-align: right;\">\n",
       "      <th></th>\n",
       "      <th>waktu</th>\n",
       "      <th>Xt</th>\n",
       "      <th>St</th>\n",
       "      <th>St2</th>\n",
       "      <th>a</th>\n",
       "      <th>b</th>\n",
       "      <th>Ft+m</th>\n",
       "      <th>Yt-Ft</th>\n",
       "    </tr>\n",
       "  </thead>\n",
       "  <tbody>\n",
       "    <tr>\n",
       "      <th>0</th>\n",
       "      <td>23/Aug</td>\n",
       "      <td>876</td>\n",
       "      <td>876</td>\n",
       "      <td>876</td>\n",
       "      <td>876</td>\n",
       "      <td>0</td>\n",
       "      <td></td>\n",
       "      <td></td>\n",
       "    </tr>\n",
       "    <tr>\n",
       "      <th>1</th>\n",
       "      <td>24/Aug</td>\n",
       "      <td>810</td>\n",
       "      <td>810.66</td>\n",
       "      <td>811.3134</td>\n",
       "      <td>810.0066</td>\n",
       "      <td>-64.6866</td>\n",
       "      <td>876</td>\n",
       "      <td>0.081481</td>\n",
       "    </tr>\n",
       "    <tr>\n",
       "      <th>2</th>\n",
       "      <td>25/Aug</td>\n",
       "      <td>724</td>\n",
       "      <td>724.8666</td>\n",
       "      <td>725.731068</td>\n",
       "      <td>724.002132</td>\n",
       "      <td>-85.582332</td>\n",
       "      <td>745.32</td>\n",
       "      <td>0.029448</td>\n",
       "    </tr>\n",
       "    <tr>\n",
       "      <th>3</th>\n",
       "      <td>26/Aug</td>\n",
       "      <td>579</td>\n",
       "      <td>580.458666</td>\n",
       "      <td>581.91139</td>\n",
       "      <td>579.005942</td>\n",
       "      <td>-143.819678</td>\n",
       "      <td>638.4198</td>\n",
       "      <td>0.102625</td>\n",
       "    </tr>\n",
       "    <tr>\n",
       "      <th>4</th>\n",
       "      <td>27/Aug</td>\n",
       "      <td>480</td>\n",
       "      <td>481.004587</td>\n",
       "      <td>482.013655</td>\n",
       "      <td>479.995519</td>\n",
       "      <td>-99.897735</td>\n",
       "      <td>435.186264</td>\n",
       "      <td>0.093362</td>\n",
       "    </tr>\n",
       "  </tbody>\n",
       "</table>\n",
       "</div>"
      ],
      "text/plain": [
       "    waktu   Xt          St         St2           a           b        Ft+m  \\\n",
       "0  23/Aug  876         876         876         876           0               \n",
       "1  24/Aug  810      810.66    811.3134    810.0066    -64.6866         876   \n",
       "2  25/Aug  724    724.8666  725.731068  724.002132  -85.582332      745.32   \n",
       "3  26/Aug  579  580.458666   581.91139  579.005942 -143.819678    638.4198   \n",
       "4  27/Aug  480  481.004587  482.013655  479.995519  -99.897735  435.186264   \n",
       "\n",
       "      Yt-Ft  \n",
       "0            \n",
       "1  0.081481  \n",
       "2  0.029448  \n",
       "3  0.102625  \n",
       "4  0.093362  "
      ]
     },
     "execution_count": 77,
     "metadata": {},
     "output_type": "execute_result"
    }
   ],
   "source": [
    "des.head()"
   ]
  },
  {
   "cell_type": "code",
   "execution_count": 78,
   "id": "9b6b2314",
   "metadata": {},
   "outputs": [
    {
     "data": {
      "application/vnd.plotly.v1+json": {
       "config": {
        "plotlyServerURL": "https://plot.ly"
       },
       "data": [
        {
         "mode": "lines+markers",
         "name": "Aktual",
         "type": "scatter",
         "x": [
          "23/Aug",
          "24/Aug",
          "25/Aug",
          "26/Aug",
          "27/Aug",
          "28/Aug",
          "29/Aug",
          "30/Aug",
          "31/Aug",
          "1/Sep",
          "2/Sep",
          "3/Sep",
          "4/Sep",
          "5/Sep",
          "6/Sep",
          "7/Sep",
          "8/Sep",
          "9/Sep",
          "10/Sep",
          "11/Sep",
          "12/Sep",
          "13/Sep",
          "14/Sep",
          "15/Sep",
          "16/Sep",
          "17/Sep",
          "18/Sep",
          "19/Sep",
          "20/Sep",
          "21/Sep",
          "22/Sep",
          "23/Sep",
          "24/Sep",
          "25/Sep",
          "26/Sep",
          "27/Sep",
          "28/Sep",
          "29/Sep",
          "30/Sep",
          "1/Oct",
          "2/Oct",
          "3/Oct",
          "4/Oct",
          "5/Oct",
          "6/Oct",
          "7/Oct",
          "8/Oct",
          "9/Oct",
          "10/Oct",
          "11/Oct",
          "12/Oct",
          "13/Oct",
          "14/Oct",
          "15/Oct",
          "16/Oct",
          "17/Oct",
          "18/Oct",
          "19/Oct",
          "20/Oct",
          "21/Oct",
          "22/Oct",
          "23/Oct",
          "24/Oct",
          "25/Oct",
          "26/Oct",
          "27/Oct",
          "28/Oct",
          "29/Oct",
          "30/Oct",
          "31/Oct",
          "1/Nov",
          "2/Nov",
          "3/Nov",
          "4/Nov",
          "5/Nov",
          "6/Nov",
          "7/Nov",
          "8/Nov",
          "9/Nov",
          "10/Nov",
          "11/Nov",
          "12/Nov",
          "13/Nov",
          "14/Nov",
          "15/Nov",
          "16/Nov",
          "17/Nov",
          "18/Nov",
          "19/Nov",
          "20/Nov",
          "21/Nov",
          "22/Nov",
          "23/Nov",
          "24/Nov",
          "25/Nov",
          "26/Nov",
          "27/Nov",
          "28/Nov",
          "29/Nov",
          "30/Nov",
          "1/Dec",
          "2/Dec",
          "3/Dec",
          "4/Dec",
          "5/Dec",
          "6/Dec",
          "7/Dec",
          "8/Dec"
         ],
         "y": [
          876,
          810,
          724,
          579,
          480,
          439,
          377,
          325,
          312,
          295,
          276,
          247,
          222,
          215,
          203,
          193,
          190,
          153,
          152,
          142,
          141,
          125,
          118,
          115,
          120,
          90,
          81,
          78,
          73,
          71,
          79,
          80,
          71,
          67,
          63,
          60,
          64,
          59,
          57,
          59,
          60,
          53,
          45,
          45,
          44,
          37,
          33,
          28,
          26,
          24,
          24,
          22,
          22,
          20,
          23,
          23,
          26,
          26,
          28,
          29,
          24,
          26,
          21,
          20,
          20,
          18,
          19,
          18,
          20,
          17,
          16,
          16,
          14,
          14,
          9,
          6,
          4,
          5,
          6,
          9,
          9,
          9,
          9,
          9,
          10,
          10,
          12,
          8,
          8,
          8,
          9,
          9,
          8,
          7,
          7,
          9,
          10,
          11,
          11,
          9,
          10,
          13,
          12,
          11,
          11,
          10,
          10,
          8
         ]
        },
        {
         "mode": "lines+markers",
         "name": "Prediksi",
         "type": "scatter",
         "x": [
          "23/Aug",
          "24/Aug",
          "25/Aug",
          "26/Aug",
          "27/Aug",
          "28/Aug",
          "29/Aug",
          "30/Aug",
          "31/Aug",
          "1/Sep",
          "2/Sep",
          "3/Sep",
          "4/Sep",
          "5/Sep",
          "6/Sep",
          "7/Sep",
          "8/Sep",
          "9/Sep",
          "10/Sep",
          "11/Sep",
          "12/Sep",
          "13/Sep",
          "14/Sep",
          "15/Sep",
          "16/Sep",
          "17/Sep",
          "18/Sep",
          "19/Sep",
          "20/Sep",
          "21/Sep",
          "22/Sep",
          "23/Sep",
          "24/Sep",
          "25/Sep",
          "26/Sep",
          "27/Sep",
          "28/Sep",
          "29/Sep",
          "30/Sep",
          "1/Oct",
          "2/Oct",
          "3/Oct",
          "4/Oct",
          "5/Oct",
          "6/Oct",
          "7/Oct",
          "8/Oct",
          "9/Oct",
          "10/Oct",
          "11/Oct",
          "12/Oct",
          "13/Oct",
          "14/Oct",
          "15/Oct",
          "16/Oct",
          "17/Oct",
          "18/Oct",
          "19/Oct",
          "20/Oct",
          "21/Oct",
          "22/Oct",
          "23/Oct",
          "24/Oct",
          "25/Oct",
          "26/Oct",
          "27/Oct",
          "28/Oct",
          "29/Oct",
          "30/Oct",
          "31/Oct",
          "1/Nov",
          "2/Nov",
          "3/Nov",
          "4/Nov",
          "5/Nov",
          "6/Nov",
          "7/Nov",
          "8/Nov",
          "9/Nov",
          "10/Nov",
          "11/Nov",
          "12/Nov",
          "13/Nov",
          "14/Nov",
          "15/Nov",
          "16/Nov",
          "17/Nov",
          "18/Nov",
          "19/Nov",
          "20/Nov",
          "21/Nov",
          "22/Nov",
          "23/Nov",
          "24/Nov",
          "25/Nov",
          "26/Nov",
          "27/Nov",
          "28/Nov",
          "29/Nov",
          "30/Nov",
          "1/Dec",
          "2/Dec",
          "3/Dec",
          "4/Dec",
          "5/Dec",
          "6/Dec",
          "7/Dec",
          "8/Dec"
         ],
         "y": [
          "",
          876,
          745.3199999999968,
          638.4197999999899,
          435.1862639999996,
          380.0977832999956,
          396.826437039598,
          315.4024189624633,
          272.8060657355443,
          298.21708107281535,
          278.0682610148832,
          257.04104351219127,
          218.200614044144,
          196.92300817653106,
          207.63884010212425,
          191.09458450122477,
          182.96142780601406,
          186.8594190976692,
          116.67789223917441,
          150.29017190287308,
          132.16933564883232,
          139.8225576957853,
          109.29733422035152,
          110.82446442863633,
          111.91735955515118,
          124.83876474466058,
          60.69758355893788,
          71.59046779470421,
          74.87383959753777,
          68.03811774517159,
          68.94057497094455,
          86.79910768764358,
          81.13698809625578,
          62.20205985115599,
          62.90302749821333,
          58.998540343978604,
          56.97998050412929,
          67.85969975604864,
          54.17789599707065,
          54.94267194996583,
          60.91913564939978,
          61.01878844579247,
          46.16028385535106,
          37.022403798261955,
          44.84033204757927,
          43.017604400571685,
          30.120268054806715,
          28.941803600656247,
          23.019124045207718,
          23.940288300544132,
          21.999103853606513,
          23.959988048242135,
          20.03939985057948,
          21.960591998206837,
          18.039407899979167,
          25.900592098799812,
          23.058507901185724,
          28.94088009881403,
          26.059111751186116,
          29.960888147014032,
          30.019411851765156,
          19.120292148220493,
          27.861803901779243,
          16.1379240488209,
          18.92207230058626,
          19.978827653606594,
          16.039684345842375,
          19.940595804151464,
          17.03910794764861,
          21.94058809937259,
          14.099107851192922,
          14.961488098213948,
          15.979419851179234,
          12.039692248213665,
          13.960595902979051,
          4.0994079488348865,
          2.9614920993863905,
          1.9794199011928173,
          5.939692248813903,
          6.9990959029861655,
          11.959987948834918,
          9.05939984938626,
          9.000891998192799,
          9.000011899979055,
          9.000000148799812,
          10.98000000178596,
          10.019700000020856,
          13.96029600000024,
          4.119403949999997,
          7.921792049400024,
          7.998823900593074,
          9.97998429880695,
          9.019699803586114,
          7.020295997641839,
          6.000303949972463,
          6.9800040493997075,
          10.959700050592984,
          11.01939600060684,
          12.000291950007075,
          11.020003899399999,
          7.040300048793032,
          10.940604000585934,
          15.959108050006794,
          11.079388100599997,
          10.001191851207047,
          10.98001589821422,
          9.019700198779201,
          9.980296002385748
         ]
        }
       ],
       "layout": {
        "template": {
         "data": {
          "bar": [
           {
            "error_x": {
             "color": "#2a3f5f"
            },
            "error_y": {
             "color": "#2a3f5f"
            },
            "marker": {
             "line": {
              "color": "#E5ECF6",
              "width": 0.5
             },
             "pattern": {
              "fillmode": "overlay",
              "size": 10,
              "solidity": 0.2
             }
            },
            "type": "bar"
           }
          ],
          "barpolar": [
           {
            "marker": {
             "line": {
              "color": "#E5ECF6",
              "width": 0.5
             },
             "pattern": {
              "fillmode": "overlay",
              "size": 10,
              "solidity": 0.2
             }
            },
            "type": "barpolar"
           }
          ],
          "carpet": [
           {
            "aaxis": {
             "endlinecolor": "#2a3f5f",
             "gridcolor": "white",
             "linecolor": "white",
             "minorgridcolor": "white",
             "startlinecolor": "#2a3f5f"
            },
            "baxis": {
             "endlinecolor": "#2a3f5f",
             "gridcolor": "white",
             "linecolor": "white",
             "minorgridcolor": "white",
             "startlinecolor": "#2a3f5f"
            },
            "type": "carpet"
           }
          ],
          "choropleth": [
           {
            "colorbar": {
             "outlinewidth": 0,
             "ticks": ""
            },
            "type": "choropleth"
           }
          ],
          "contour": [
           {
            "colorbar": {
             "outlinewidth": 0,
             "ticks": ""
            },
            "colorscale": [
             [
              0,
              "#0d0887"
             ],
             [
              0.1111111111111111,
              "#46039f"
             ],
             [
              0.2222222222222222,
              "#7201a8"
             ],
             [
              0.3333333333333333,
              "#9c179e"
             ],
             [
              0.4444444444444444,
              "#bd3786"
             ],
             [
              0.5555555555555556,
              "#d8576b"
             ],
             [
              0.6666666666666666,
              "#ed7953"
             ],
             [
              0.7777777777777778,
              "#fb9f3a"
             ],
             [
              0.8888888888888888,
              "#fdca26"
             ],
             [
              1,
              "#f0f921"
             ]
            ],
            "type": "contour"
           }
          ],
          "contourcarpet": [
           {
            "colorbar": {
             "outlinewidth": 0,
             "ticks": ""
            },
            "type": "contourcarpet"
           }
          ],
          "heatmap": [
           {
            "colorbar": {
             "outlinewidth": 0,
             "ticks": ""
            },
            "colorscale": [
             [
              0,
              "#0d0887"
             ],
             [
              0.1111111111111111,
              "#46039f"
             ],
             [
              0.2222222222222222,
              "#7201a8"
             ],
             [
              0.3333333333333333,
              "#9c179e"
             ],
             [
              0.4444444444444444,
              "#bd3786"
             ],
             [
              0.5555555555555556,
              "#d8576b"
             ],
             [
              0.6666666666666666,
              "#ed7953"
             ],
             [
              0.7777777777777778,
              "#fb9f3a"
             ],
             [
              0.8888888888888888,
              "#fdca26"
             ],
             [
              1,
              "#f0f921"
             ]
            ],
            "type": "heatmap"
           }
          ],
          "heatmapgl": [
           {
            "colorbar": {
             "outlinewidth": 0,
             "ticks": ""
            },
            "colorscale": [
             [
              0,
              "#0d0887"
             ],
             [
              0.1111111111111111,
              "#46039f"
             ],
             [
              0.2222222222222222,
              "#7201a8"
             ],
             [
              0.3333333333333333,
              "#9c179e"
             ],
             [
              0.4444444444444444,
              "#bd3786"
             ],
             [
              0.5555555555555556,
              "#d8576b"
             ],
             [
              0.6666666666666666,
              "#ed7953"
             ],
             [
              0.7777777777777778,
              "#fb9f3a"
             ],
             [
              0.8888888888888888,
              "#fdca26"
             ],
             [
              1,
              "#f0f921"
             ]
            ],
            "type": "heatmapgl"
           }
          ],
          "histogram": [
           {
            "marker": {
             "pattern": {
              "fillmode": "overlay",
              "size": 10,
              "solidity": 0.2
             }
            },
            "type": "histogram"
           }
          ],
          "histogram2d": [
           {
            "colorbar": {
             "outlinewidth": 0,
             "ticks": ""
            },
            "colorscale": [
             [
              0,
              "#0d0887"
             ],
             [
              0.1111111111111111,
              "#46039f"
             ],
             [
              0.2222222222222222,
              "#7201a8"
             ],
             [
              0.3333333333333333,
              "#9c179e"
             ],
             [
              0.4444444444444444,
              "#bd3786"
             ],
             [
              0.5555555555555556,
              "#d8576b"
             ],
             [
              0.6666666666666666,
              "#ed7953"
             ],
             [
              0.7777777777777778,
              "#fb9f3a"
             ],
             [
              0.8888888888888888,
              "#fdca26"
             ],
             [
              1,
              "#f0f921"
             ]
            ],
            "type": "histogram2d"
           }
          ],
          "histogram2dcontour": [
           {
            "colorbar": {
             "outlinewidth": 0,
             "ticks": ""
            },
            "colorscale": [
             [
              0,
              "#0d0887"
             ],
             [
              0.1111111111111111,
              "#46039f"
             ],
             [
              0.2222222222222222,
              "#7201a8"
             ],
             [
              0.3333333333333333,
              "#9c179e"
             ],
             [
              0.4444444444444444,
              "#bd3786"
             ],
             [
              0.5555555555555556,
              "#d8576b"
             ],
             [
              0.6666666666666666,
              "#ed7953"
             ],
             [
              0.7777777777777778,
              "#fb9f3a"
             ],
             [
              0.8888888888888888,
              "#fdca26"
             ],
             [
              1,
              "#f0f921"
             ]
            ],
            "type": "histogram2dcontour"
           }
          ],
          "mesh3d": [
           {
            "colorbar": {
             "outlinewidth": 0,
             "ticks": ""
            },
            "type": "mesh3d"
           }
          ],
          "parcoords": [
           {
            "line": {
             "colorbar": {
              "outlinewidth": 0,
              "ticks": ""
             }
            },
            "type": "parcoords"
           }
          ],
          "pie": [
           {
            "automargin": true,
            "type": "pie"
           }
          ],
          "scatter": [
           {
            "marker": {
             "colorbar": {
              "outlinewidth": 0,
              "ticks": ""
             }
            },
            "type": "scatter"
           }
          ],
          "scatter3d": [
           {
            "line": {
             "colorbar": {
              "outlinewidth": 0,
              "ticks": ""
             }
            },
            "marker": {
             "colorbar": {
              "outlinewidth": 0,
              "ticks": ""
             }
            },
            "type": "scatter3d"
           }
          ],
          "scattercarpet": [
           {
            "marker": {
             "colorbar": {
              "outlinewidth": 0,
              "ticks": ""
             }
            },
            "type": "scattercarpet"
           }
          ],
          "scattergeo": [
           {
            "marker": {
             "colorbar": {
              "outlinewidth": 0,
              "ticks": ""
             }
            },
            "type": "scattergeo"
           }
          ],
          "scattergl": [
           {
            "marker": {
             "colorbar": {
              "outlinewidth": 0,
              "ticks": ""
             }
            },
            "type": "scattergl"
           }
          ],
          "scattermapbox": [
           {
            "marker": {
             "colorbar": {
              "outlinewidth": 0,
              "ticks": ""
             }
            },
            "type": "scattermapbox"
           }
          ],
          "scatterpolar": [
           {
            "marker": {
             "colorbar": {
              "outlinewidth": 0,
              "ticks": ""
             }
            },
            "type": "scatterpolar"
           }
          ],
          "scatterpolargl": [
           {
            "marker": {
             "colorbar": {
              "outlinewidth": 0,
              "ticks": ""
             }
            },
            "type": "scatterpolargl"
           }
          ],
          "scatterternary": [
           {
            "marker": {
             "colorbar": {
              "outlinewidth": 0,
              "ticks": ""
             }
            },
            "type": "scatterternary"
           }
          ],
          "surface": [
           {
            "colorbar": {
             "outlinewidth": 0,
             "ticks": ""
            },
            "colorscale": [
             [
              0,
              "#0d0887"
             ],
             [
              0.1111111111111111,
              "#46039f"
             ],
             [
              0.2222222222222222,
              "#7201a8"
             ],
             [
              0.3333333333333333,
              "#9c179e"
             ],
             [
              0.4444444444444444,
              "#bd3786"
             ],
             [
              0.5555555555555556,
              "#d8576b"
             ],
             [
              0.6666666666666666,
              "#ed7953"
             ],
             [
              0.7777777777777778,
              "#fb9f3a"
             ],
             [
              0.8888888888888888,
              "#fdca26"
             ],
             [
              1,
              "#f0f921"
             ]
            ],
            "type": "surface"
           }
          ],
          "table": [
           {
            "cells": {
             "fill": {
              "color": "#EBF0F8"
             },
             "line": {
              "color": "white"
             }
            },
            "header": {
             "fill": {
              "color": "#C8D4E3"
             },
             "line": {
              "color": "white"
             }
            },
            "type": "table"
           }
          ]
         },
         "layout": {
          "annotationdefaults": {
           "arrowcolor": "#2a3f5f",
           "arrowhead": 0,
           "arrowwidth": 1
          },
          "autotypenumbers": "strict",
          "coloraxis": {
           "colorbar": {
            "outlinewidth": 0,
            "ticks": ""
           }
          },
          "colorscale": {
           "diverging": [
            [
             0,
             "#8e0152"
            ],
            [
             0.1,
             "#c51b7d"
            ],
            [
             0.2,
             "#de77ae"
            ],
            [
             0.3,
             "#f1b6da"
            ],
            [
             0.4,
             "#fde0ef"
            ],
            [
             0.5,
             "#f7f7f7"
            ],
            [
             0.6,
             "#e6f5d0"
            ],
            [
             0.7,
             "#b8e186"
            ],
            [
             0.8,
             "#7fbc41"
            ],
            [
             0.9,
             "#4d9221"
            ],
            [
             1,
             "#276419"
            ]
           ],
           "sequential": [
            [
             0,
             "#0d0887"
            ],
            [
             0.1111111111111111,
             "#46039f"
            ],
            [
             0.2222222222222222,
             "#7201a8"
            ],
            [
             0.3333333333333333,
             "#9c179e"
            ],
            [
             0.4444444444444444,
             "#bd3786"
            ],
            [
             0.5555555555555556,
             "#d8576b"
            ],
            [
             0.6666666666666666,
             "#ed7953"
            ],
            [
             0.7777777777777778,
             "#fb9f3a"
            ],
            [
             0.8888888888888888,
             "#fdca26"
            ],
            [
             1,
             "#f0f921"
            ]
           ],
           "sequentialminus": [
            [
             0,
             "#0d0887"
            ],
            [
             0.1111111111111111,
             "#46039f"
            ],
            [
             0.2222222222222222,
             "#7201a8"
            ],
            [
             0.3333333333333333,
             "#9c179e"
            ],
            [
             0.4444444444444444,
             "#bd3786"
            ],
            [
             0.5555555555555556,
             "#d8576b"
            ],
            [
             0.6666666666666666,
             "#ed7953"
            ],
            [
             0.7777777777777778,
             "#fb9f3a"
            ],
            [
             0.8888888888888888,
             "#fdca26"
            ],
            [
             1,
             "#f0f921"
            ]
           ]
          },
          "colorway": [
           "#636efa",
           "#EF553B",
           "#00cc96",
           "#ab63fa",
           "#FFA15A",
           "#19d3f3",
           "#FF6692",
           "#B6E880",
           "#FF97FF",
           "#FECB52"
          ],
          "font": {
           "color": "#2a3f5f"
          },
          "geo": {
           "bgcolor": "white",
           "lakecolor": "white",
           "landcolor": "#E5ECF6",
           "showlakes": true,
           "showland": true,
           "subunitcolor": "white"
          },
          "hoverlabel": {
           "align": "left"
          },
          "hovermode": "closest",
          "mapbox": {
           "style": "light"
          },
          "paper_bgcolor": "white",
          "plot_bgcolor": "#E5ECF6",
          "polar": {
           "angularaxis": {
            "gridcolor": "white",
            "linecolor": "white",
            "ticks": ""
           },
           "bgcolor": "#E5ECF6",
           "radialaxis": {
            "gridcolor": "white",
            "linecolor": "white",
            "ticks": ""
           }
          },
          "scene": {
           "xaxis": {
            "backgroundcolor": "#E5ECF6",
            "gridcolor": "white",
            "gridwidth": 2,
            "linecolor": "white",
            "showbackground": true,
            "ticks": "",
            "zerolinecolor": "white"
           },
           "yaxis": {
            "backgroundcolor": "#E5ECF6",
            "gridcolor": "white",
            "gridwidth": 2,
            "linecolor": "white",
            "showbackground": true,
            "ticks": "",
            "zerolinecolor": "white"
           },
           "zaxis": {
            "backgroundcolor": "#E5ECF6",
            "gridcolor": "white",
            "gridwidth": 2,
            "linecolor": "white",
            "showbackground": true,
            "ticks": "",
            "zerolinecolor": "white"
           }
          },
          "shapedefaults": {
           "line": {
            "color": "#2a3f5f"
           }
          },
          "ternary": {
           "aaxis": {
            "gridcolor": "white",
            "linecolor": "white",
            "ticks": ""
           },
           "baxis": {
            "gridcolor": "white",
            "linecolor": "white",
            "ticks": ""
           },
           "bgcolor": "#E5ECF6",
           "caxis": {
            "gridcolor": "white",
            "linecolor": "white",
            "ticks": ""
           }
          },
          "title": {
           "x": 0.05
          },
          "xaxis": {
           "automargin": true,
           "gridcolor": "white",
           "linecolor": "white",
           "ticks": "",
           "title": {
            "standoff": 15
           },
           "zerolinecolor": "white",
           "zerolinewidth": 2
          },
          "yaxis": {
           "automargin": true,
           "gridcolor": "white",
           "linecolor": "white",
           "ticks": "",
           "title": {
            "standoff": 15
           },
           "zerolinecolor": "white",
           "zerolinewidth": 2
          }
         }
        }
       }
      }
     },
     "metadata": {},
     "output_type": "display_data"
    }
   ],
   "source": [
    "# fig = px.line(df, x=\"year\", y=\"lifeExp\", title='Life expectancy in Canada')\n",
    "# fig.show()\n",
    "\n",
    "import plotly.graph_objects as go\n",
    "# desChart = pd.DataFrame(des[['waktu','Xt','Ft+m']])\n",
    "\n",
    "fig = go.Figure()\n",
    "fig.add_trace(go.Scatter(x=des['waktu'], y=des['Xt'],mode='lines+markers',name='Aktual'))\n",
    "fig.add_trace(go.Scatter(x=des['waktu'], y=des['Ft+m'],mode='lines+markers',name='Prediksi'))\n",
    "# lineAdd = px.line(desChart, x='waktu',y='Xt')\n",
    "# lineAdd = px.line(desChart,x='waktu',y='Ft+m')\n",
    "fig.show()\n",
    "# desChart"
   ]
  },
  {
   "cell_type": "code",
   "execution_count": 79,
   "id": "ac44eeaf",
   "metadata": {},
   "outputs": [
    {
     "data": {
      "application/vnd.plotly.v1+json": {
       "config": {
        "plotlyServerURL": "https://plot.ly"
       },
       "data": [
        {
         "mode": "lines+markers",
         "name": "Aktual",
         "type": "scatter",
         "x": [
          "23/Aug",
          "24/Aug",
          "25/Aug",
          "26/Aug",
          "27/Aug",
          "28/Aug",
          "29/Aug",
          "30/Aug",
          "31/Aug",
          "1/Sep",
          "2/Sep",
          "3/Sep",
          "4/Sep",
          "5/Sep",
          "6/Sep",
          "7/Sep",
          "8/Sep",
          "9/Sep",
          "10/Sep",
          "11/Sep",
          "12/Sep",
          "13/Sep",
          "14/Sep",
          "15/Sep",
          "16/Sep",
          "17/Sep",
          "18/Sep",
          "19/Sep",
          "20/Sep",
          "21/Sep",
          "22/Sep",
          "23/Sep",
          "24/Sep",
          "25/Sep",
          "26/Sep",
          "27/Sep",
          "28/Sep",
          "29/Sep",
          "30/Sep",
          "1/Oct",
          "2/Oct",
          "3/Oct",
          "4/Oct",
          "5/Oct",
          "6/Oct",
          "7/Oct",
          "8/Oct",
          "9/Oct",
          "10/Oct",
          "11/Oct",
          "12/Oct",
          "13/Oct",
          "14/Oct",
          "15/Oct"
         ],
         "y": [
          876,
          810,
          724,
          579,
          480,
          439,
          377,
          325,
          312,
          295,
          276,
          247,
          222,
          215,
          203,
          193,
          190,
          153,
          152,
          142,
          141,
          125,
          118,
          115,
          120,
          90,
          81,
          78,
          73,
          71,
          79,
          80,
          71,
          67,
          63,
          60,
          64,
          59,
          57,
          59,
          60,
          53,
          45,
          45,
          44,
          37,
          33,
          28,
          26,
          24,
          24,
          22,
          22,
          20
         ]
        },
        {
         "mode": "lines+markers",
         "name": "Prediksi",
         "type": "scatter",
         "x": [
          "23/Aug",
          "24/Aug",
          "25/Aug",
          "26/Aug",
          "27/Aug",
          "28/Aug",
          "29/Aug",
          "30/Aug",
          "31/Aug",
          "1/Sep",
          "2/Sep",
          "3/Sep",
          "4/Sep",
          "5/Sep",
          "6/Sep",
          "7/Sep",
          "8/Sep",
          "9/Sep",
          "10/Sep",
          "11/Sep",
          "12/Sep",
          "13/Sep",
          "14/Sep",
          "15/Sep",
          "16/Sep",
          "17/Sep",
          "18/Sep",
          "19/Sep",
          "20/Sep",
          "21/Sep",
          "22/Sep",
          "23/Sep",
          "24/Sep",
          "25/Sep",
          "26/Sep",
          "27/Sep",
          "28/Sep",
          "29/Sep",
          "30/Sep",
          "1/Oct",
          "2/Oct",
          "3/Oct",
          "4/Oct",
          "5/Oct",
          "6/Oct",
          "7/Oct",
          "8/Oct",
          "9/Oct",
          "10/Oct",
          "11/Oct",
          "12/Oct",
          "13/Oct",
          "14/Oct",
          "15/Oct"
         ],
         "y": [
          "",
          876,
          745.3199999999968,
          638.4197999999899,
          435.1862639999996,
          380.0977832999956,
          396.826437039598,
          315.4024189624633,
          272.8060657355443,
          298.21708107281535,
          278.0682610148832,
          257.04104351219127,
          218.200614044144,
          196.92300817653106,
          207.63884010212425,
          191.09458450122477,
          182.96142780601406,
          186.8594190976692,
          116.67789223917441,
          150.29017190287308,
          132.16933564883232,
          139.8225576957853,
          109.29733422035152,
          110.82446442863633,
          111.91735955515118,
          124.83876474466058,
          60.69758355893788,
          71.59046779470421,
          74.87383959753777,
          68.03811774517159,
          68.94057497094455,
          86.79910768764358,
          81.13698809625578,
          62.20205985115599,
          62.90302749821333,
          58.998540343978604,
          56.97998050412929,
          67.85969975604864,
          54.17789599707065,
          54.94267194996583,
          60.91913564939978,
          61.01878844579247,
          46.16028385535106,
          37.022403798261955,
          44.84033204757927,
          43.017604400571685,
          30.120268054806715,
          28.941803600656247,
          23.019124045207718,
          23.940288300544132,
          21.999103853606513,
          23.959988048242135,
          20.03939985057948,
          21.960591998206837
         ]
        }
       ],
       "layout": {
        "template": {
         "data": {
          "bar": [
           {
            "error_x": {
             "color": "#2a3f5f"
            },
            "error_y": {
             "color": "#2a3f5f"
            },
            "marker": {
             "line": {
              "color": "#E5ECF6",
              "width": 0.5
             },
             "pattern": {
              "fillmode": "overlay",
              "size": 10,
              "solidity": 0.2
             }
            },
            "type": "bar"
           }
          ],
          "barpolar": [
           {
            "marker": {
             "line": {
              "color": "#E5ECF6",
              "width": 0.5
             },
             "pattern": {
              "fillmode": "overlay",
              "size": 10,
              "solidity": 0.2
             }
            },
            "type": "barpolar"
           }
          ],
          "carpet": [
           {
            "aaxis": {
             "endlinecolor": "#2a3f5f",
             "gridcolor": "white",
             "linecolor": "white",
             "minorgridcolor": "white",
             "startlinecolor": "#2a3f5f"
            },
            "baxis": {
             "endlinecolor": "#2a3f5f",
             "gridcolor": "white",
             "linecolor": "white",
             "minorgridcolor": "white",
             "startlinecolor": "#2a3f5f"
            },
            "type": "carpet"
           }
          ],
          "choropleth": [
           {
            "colorbar": {
             "outlinewidth": 0,
             "ticks": ""
            },
            "type": "choropleth"
           }
          ],
          "contour": [
           {
            "colorbar": {
             "outlinewidth": 0,
             "ticks": ""
            },
            "colorscale": [
             [
              0,
              "#0d0887"
             ],
             [
              0.1111111111111111,
              "#46039f"
             ],
             [
              0.2222222222222222,
              "#7201a8"
             ],
             [
              0.3333333333333333,
              "#9c179e"
             ],
             [
              0.4444444444444444,
              "#bd3786"
             ],
             [
              0.5555555555555556,
              "#d8576b"
             ],
             [
              0.6666666666666666,
              "#ed7953"
             ],
             [
              0.7777777777777778,
              "#fb9f3a"
             ],
             [
              0.8888888888888888,
              "#fdca26"
             ],
             [
              1,
              "#f0f921"
             ]
            ],
            "type": "contour"
           }
          ],
          "contourcarpet": [
           {
            "colorbar": {
             "outlinewidth": 0,
             "ticks": ""
            },
            "type": "contourcarpet"
           }
          ],
          "heatmap": [
           {
            "colorbar": {
             "outlinewidth": 0,
             "ticks": ""
            },
            "colorscale": [
             [
              0,
              "#0d0887"
             ],
             [
              0.1111111111111111,
              "#46039f"
             ],
             [
              0.2222222222222222,
              "#7201a8"
             ],
             [
              0.3333333333333333,
              "#9c179e"
             ],
             [
              0.4444444444444444,
              "#bd3786"
             ],
             [
              0.5555555555555556,
              "#d8576b"
             ],
             [
              0.6666666666666666,
              "#ed7953"
             ],
             [
              0.7777777777777778,
              "#fb9f3a"
             ],
             [
              0.8888888888888888,
              "#fdca26"
             ],
             [
              1,
              "#f0f921"
             ]
            ],
            "type": "heatmap"
           }
          ],
          "heatmapgl": [
           {
            "colorbar": {
             "outlinewidth": 0,
             "ticks": ""
            },
            "colorscale": [
             [
              0,
              "#0d0887"
             ],
             [
              0.1111111111111111,
              "#46039f"
             ],
             [
              0.2222222222222222,
              "#7201a8"
             ],
             [
              0.3333333333333333,
              "#9c179e"
             ],
             [
              0.4444444444444444,
              "#bd3786"
             ],
             [
              0.5555555555555556,
              "#d8576b"
             ],
             [
              0.6666666666666666,
              "#ed7953"
             ],
             [
              0.7777777777777778,
              "#fb9f3a"
             ],
             [
              0.8888888888888888,
              "#fdca26"
             ],
             [
              1,
              "#f0f921"
             ]
            ],
            "type": "heatmapgl"
           }
          ],
          "histogram": [
           {
            "marker": {
             "pattern": {
              "fillmode": "overlay",
              "size": 10,
              "solidity": 0.2
             }
            },
            "type": "histogram"
           }
          ],
          "histogram2d": [
           {
            "colorbar": {
             "outlinewidth": 0,
             "ticks": ""
            },
            "colorscale": [
             [
              0,
              "#0d0887"
             ],
             [
              0.1111111111111111,
              "#46039f"
             ],
             [
              0.2222222222222222,
              "#7201a8"
             ],
             [
              0.3333333333333333,
              "#9c179e"
             ],
             [
              0.4444444444444444,
              "#bd3786"
             ],
             [
              0.5555555555555556,
              "#d8576b"
             ],
             [
              0.6666666666666666,
              "#ed7953"
             ],
             [
              0.7777777777777778,
              "#fb9f3a"
             ],
             [
              0.8888888888888888,
              "#fdca26"
             ],
             [
              1,
              "#f0f921"
             ]
            ],
            "type": "histogram2d"
           }
          ],
          "histogram2dcontour": [
           {
            "colorbar": {
             "outlinewidth": 0,
             "ticks": ""
            },
            "colorscale": [
             [
              0,
              "#0d0887"
             ],
             [
              0.1111111111111111,
              "#46039f"
             ],
             [
              0.2222222222222222,
              "#7201a8"
             ],
             [
              0.3333333333333333,
              "#9c179e"
             ],
             [
              0.4444444444444444,
              "#bd3786"
             ],
             [
              0.5555555555555556,
              "#d8576b"
             ],
             [
              0.6666666666666666,
              "#ed7953"
             ],
             [
              0.7777777777777778,
              "#fb9f3a"
             ],
             [
              0.8888888888888888,
              "#fdca26"
             ],
             [
              1,
              "#f0f921"
             ]
            ],
            "type": "histogram2dcontour"
           }
          ],
          "mesh3d": [
           {
            "colorbar": {
             "outlinewidth": 0,
             "ticks": ""
            },
            "type": "mesh3d"
           }
          ],
          "parcoords": [
           {
            "line": {
             "colorbar": {
              "outlinewidth": 0,
              "ticks": ""
             }
            },
            "type": "parcoords"
           }
          ],
          "pie": [
           {
            "automargin": true,
            "type": "pie"
           }
          ],
          "scatter": [
           {
            "marker": {
             "colorbar": {
              "outlinewidth": 0,
              "ticks": ""
             }
            },
            "type": "scatter"
           }
          ],
          "scatter3d": [
           {
            "line": {
             "colorbar": {
              "outlinewidth": 0,
              "ticks": ""
             }
            },
            "marker": {
             "colorbar": {
              "outlinewidth": 0,
              "ticks": ""
             }
            },
            "type": "scatter3d"
           }
          ],
          "scattercarpet": [
           {
            "marker": {
             "colorbar": {
              "outlinewidth": 0,
              "ticks": ""
             }
            },
            "type": "scattercarpet"
           }
          ],
          "scattergeo": [
           {
            "marker": {
             "colorbar": {
              "outlinewidth": 0,
              "ticks": ""
             }
            },
            "type": "scattergeo"
           }
          ],
          "scattergl": [
           {
            "marker": {
             "colorbar": {
              "outlinewidth": 0,
              "ticks": ""
             }
            },
            "type": "scattergl"
           }
          ],
          "scattermapbox": [
           {
            "marker": {
             "colorbar": {
              "outlinewidth": 0,
              "ticks": ""
             }
            },
            "type": "scattermapbox"
           }
          ],
          "scatterpolar": [
           {
            "marker": {
             "colorbar": {
              "outlinewidth": 0,
              "ticks": ""
             }
            },
            "type": "scatterpolar"
           }
          ],
          "scatterpolargl": [
           {
            "marker": {
             "colorbar": {
              "outlinewidth": 0,
              "ticks": ""
             }
            },
            "type": "scatterpolargl"
           }
          ],
          "scatterternary": [
           {
            "marker": {
             "colorbar": {
              "outlinewidth": 0,
              "ticks": ""
             }
            },
            "type": "scatterternary"
           }
          ],
          "surface": [
           {
            "colorbar": {
             "outlinewidth": 0,
             "ticks": ""
            },
            "colorscale": [
             [
              0,
              "#0d0887"
             ],
             [
              0.1111111111111111,
              "#46039f"
             ],
             [
              0.2222222222222222,
              "#7201a8"
             ],
             [
              0.3333333333333333,
              "#9c179e"
             ],
             [
              0.4444444444444444,
              "#bd3786"
             ],
             [
              0.5555555555555556,
              "#d8576b"
             ],
             [
              0.6666666666666666,
              "#ed7953"
             ],
             [
              0.7777777777777778,
              "#fb9f3a"
             ],
             [
              0.8888888888888888,
              "#fdca26"
             ],
             [
              1,
              "#f0f921"
             ]
            ],
            "type": "surface"
           }
          ],
          "table": [
           {
            "cells": {
             "fill": {
              "color": "#EBF0F8"
             },
             "line": {
              "color": "white"
             }
            },
            "header": {
             "fill": {
              "color": "#C8D4E3"
             },
             "line": {
              "color": "white"
             }
            },
            "type": "table"
           }
          ]
         },
         "layout": {
          "annotationdefaults": {
           "arrowcolor": "#2a3f5f",
           "arrowhead": 0,
           "arrowwidth": 1
          },
          "autotypenumbers": "strict",
          "coloraxis": {
           "colorbar": {
            "outlinewidth": 0,
            "ticks": ""
           }
          },
          "colorscale": {
           "diverging": [
            [
             0,
             "#8e0152"
            ],
            [
             0.1,
             "#c51b7d"
            ],
            [
             0.2,
             "#de77ae"
            ],
            [
             0.3,
             "#f1b6da"
            ],
            [
             0.4,
             "#fde0ef"
            ],
            [
             0.5,
             "#f7f7f7"
            ],
            [
             0.6,
             "#e6f5d0"
            ],
            [
             0.7,
             "#b8e186"
            ],
            [
             0.8,
             "#7fbc41"
            ],
            [
             0.9,
             "#4d9221"
            ],
            [
             1,
             "#276419"
            ]
           ],
           "sequential": [
            [
             0,
             "#0d0887"
            ],
            [
             0.1111111111111111,
             "#46039f"
            ],
            [
             0.2222222222222222,
             "#7201a8"
            ],
            [
             0.3333333333333333,
             "#9c179e"
            ],
            [
             0.4444444444444444,
             "#bd3786"
            ],
            [
             0.5555555555555556,
             "#d8576b"
            ],
            [
             0.6666666666666666,
             "#ed7953"
            ],
            [
             0.7777777777777778,
             "#fb9f3a"
            ],
            [
             0.8888888888888888,
             "#fdca26"
            ],
            [
             1,
             "#f0f921"
            ]
           ],
           "sequentialminus": [
            [
             0,
             "#0d0887"
            ],
            [
             0.1111111111111111,
             "#46039f"
            ],
            [
             0.2222222222222222,
             "#7201a8"
            ],
            [
             0.3333333333333333,
             "#9c179e"
            ],
            [
             0.4444444444444444,
             "#bd3786"
            ],
            [
             0.5555555555555556,
             "#d8576b"
            ],
            [
             0.6666666666666666,
             "#ed7953"
            ],
            [
             0.7777777777777778,
             "#fb9f3a"
            ],
            [
             0.8888888888888888,
             "#fdca26"
            ],
            [
             1,
             "#f0f921"
            ]
           ]
          },
          "colorway": [
           "#636efa",
           "#EF553B",
           "#00cc96",
           "#ab63fa",
           "#FFA15A",
           "#19d3f3",
           "#FF6692",
           "#B6E880",
           "#FF97FF",
           "#FECB52"
          ],
          "font": {
           "color": "#2a3f5f"
          },
          "geo": {
           "bgcolor": "white",
           "lakecolor": "white",
           "landcolor": "#E5ECF6",
           "showlakes": true,
           "showland": true,
           "subunitcolor": "white"
          },
          "hoverlabel": {
           "align": "left"
          },
          "hovermode": "closest",
          "mapbox": {
           "style": "light"
          },
          "paper_bgcolor": "white",
          "plot_bgcolor": "#E5ECF6",
          "polar": {
           "angularaxis": {
            "gridcolor": "white",
            "linecolor": "white",
            "ticks": ""
           },
           "bgcolor": "#E5ECF6",
           "radialaxis": {
            "gridcolor": "white",
            "linecolor": "white",
            "ticks": ""
           }
          },
          "scene": {
           "xaxis": {
            "backgroundcolor": "#E5ECF6",
            "gridcolor": "white",
            "gridwidth": 2,
            "linecolor": "white",
            "showbackground": true,
            "ticks": "",
            "zerolinecolor": "white"
           },
           "yaxis": {
            "backgroundcolor": "#E5ECF6",
            "gridcolor": "white",
            "gridwidth": 2,
            "linecolor": "white",
            "showbackground": true,
            "ticks": "",
            "zerolinecolor": "white"
           },
           "zaxis": {
            "backgroundcolor": "#E5ECF6",
            "gridcolor": "white",
            "gridwidth": 2,
            "linecolor": "white",
            "showbackground": true,
            "ticks": "",
            "zerolinecolor": "white"
           }
          },
          "shapedefaults": {
           "line": {
            "color": "#2a3f5f"
           }
          },
          "ternary": {
           "aaxis": {
            "gridcolor": "white",
            "linecolor": "white",
            "ticks": ""
           },
           "baxis": {
            "gridcolor": "white",
            "linecolor": "white",
            "ticks": ""
           },
           "bgcolor": "#E5ECF6",
           "caxis": {
            "gridcolor": "white",
            "linecolor": "white",
            "ticks": ""
           }
          },
          "title": {
           "x": 0.05
          },
          "xaxis": {
           "automargin": true,
           "gridcolor": "white",
           "linecolor": "white",
           "ticks": "",
           "title": {
            "standoff": 15
           },
           "zerolinecolor": "white",
           "zerolinewidth": 2
          },
          "yaxis": {
           "automargin": true,
           "gridcolor": "white",
           "linecolor": "white",
           "ticks": "",
           "title": {
            "standoff": 15
           },
           "zerolinecolor": "white",
           "zerolinewidth": 2
          }
         }
        }
       }
      }
     },
     "metadata": {},
     "output_type": "display_data"
    }
   ],
   "source": [
    "fig2 = go.Figure()\n",
    "fig2.add_trace(go.Scatter(x=des['waktu'].iloc[:54], y=des['Xt'].iloc[:54],mode='lines+markers',name='Aktual'))\n",
    "fig2.add_trace(go.Scatter(x=des['waktu'].iloc[:54], y=des['Ft+m'].iloc[:54],mode='lines+markers',name='Prediksi'))\n",
    "fig2.show()"
   ]
  },
  {
   "cell_type": "code",
   "execution_count": 80,
   "id": "45e1706a",
   "metadata": {},
   "outputs": [
    {
     "data": {
      "application/vnd.plotly.v1+json": {
       "config": {
        "plotlyServerURL": "https://plot.ly"
       },
       "data": [
        {
         "mode": "lines+markers",
         "name": "Aktual",
         "type": "scatter",
         "x": [
          "16/Oct",
          "17/Oct",
          "18/Oct",
          "19/Oct",
          "20/Oct",
          "21/Oct",
          "22/Oct",
          "23/Oct",
          "24/Oct",
          "25/Oct",
          "26/Oct",
          "27/Oct",
          "28/Oct",
          "29/Oct",
          "30/Oct",
          "31/Oct",
          "1/Nov",
          "2/Nov",
          "3/Nov",
          "4/Nov",
          "5/Nov",
          "6/Nov",
          "7/Nov",
          "8/Nov",
          "9/Nov",
          "10/Nov",
          "11/Nov",
          "12/Nov",
          "13/Nov",
          "14/Nov",
          "15/Nov",
          "16/Nov",
          "17/Nov",
          "18/Nov",
          "19/Nov",
          "20/Nov",
          "21/Nov",
          "22/Nov",
          "23/Nov",
          "24/Nov",
          "25/Nov",
          "26/Nov",
          "27/Nov",
          "28/Nov",
          "29/Nov",
          "30/Nov",
          "1/Dec",
          "2/Dec",
          "3/Dec",
          "4/Dec",
          "5/Dec",
          "6/Dec",
          "7/Dec",
          "8/Dec"
         ],
         "y": [
          23,
          23,
          26,
          26,
          28,
          29,
          24,
          26,
          21,
          20,
          20,
          18,
          19,
          18,
          20,
          17,
          16,
          16,
          14,
          14,
          9,
          6,
          4,
          5,
          6,
          9,
          9,
          9,
          9,
          9,
          10,
          10,
          12,
          8,
          8,
          8,
          9,
          9,
          8,
          7,
          7,
          9,
          10,
          11,
          11,
          9,
          10,
          13,
          12,
          11,
          11,
          10,
          10,
          8
         ]
        },
        {
         "mode": "lines+markers",
         "name": "Prediksi",
         "type": "scatter",
         "x": [
          "16/Oct",
          "17/Oct",
          "18/Oct",
          "19/Oct",
          "20/Oct",
          "21/Oct",
          "22/Oct",
          "23/Oct",
          "24/Oct",
          "25/Oct",
          "26/Oct",
          "27/Oct",
          "28/Oct",
          "29/Oct",
          "30/Oct",
          "31/Oct",
          "1/Nov",
          "2/Nov",
          "3/Nov",
          "4/Nov",
          "5/Nov",
          "6/Nov",
          "7/Nov",
          "8/Nov",
          "9/Nov",
          "10/Nov",
          "11/Nov",
          "12/Nov",
          "13/Nov",
          "14/Nov",
          "15/Nov",
          "16/Nov",
          "17/Nov",
          "18/Nov",
          "19/Nov",
          "20/Nov",
          "21/Nov",
          "22/Nov",
          "23/Nov",
          "24/Nov",
          "25/Nov",
          "26/Nov",
          "27/Nov",
          "28/Nov",
          "29/Nov",
          "30/Nov",
          "1/Dec",
          "2/Dec",
          "3/Dec",
          "4/Dec",
          "5/Dec",
          "6/Dec",
          "7/Dec",
          "8/Dec"
         ],
         "y": [
          18.039407899979167,
          25.900592098799812,
          23.058507901185724,
          28.94088009881403,
          26.059111751186116,
          29.960888147014032,
          30.019411851765156,
          19.120292148220493,
          27.861803901779243,
          16.1379240488209,
          18.92207230058626,
          19.978827653606594,
          16.039684345842375,
          19.940595804151464,
          17.03910794764861,
          21.94058809937259,
          14.099107851192922,
          14.961488098213948,
          15.979419851179234,
          12.039692248213665,
          13.960595902979051,
          4.0994079488348865,
          2.9614920993863905,
          1.9794199011928173,
          5.939692248813903,
          6.9990959029861655,
          11.959987948834918,
          9.05939984938626,
          9.000891998192799,
          9.000011899979055,
          9.000000148799812,
          10.98000000178596,
          10.019700000020856,
          13.96029600000024,
          4.119403949999997,
          7.921792049400024,
          7.998823900593074,
          9.97998429880695,
          9.019699803586114,
          7.020295997641839,
          6.000303949972463,
          6.9800040493997075,
          10.959700050592984,
          11.01939600060684,
          12.000291950007075,
          11.020003899399999,
          7.040300048793032,
          10.940604000585934,
          15.959108050006794,
          11.079388100599997,
          10.001191851207047,
          10.98001589821422,
          9.019700198779201,
          9.980296002385748
         ]
        }
       ],
       "layout": {
        "template": {
         "data": {
          "bar": [
           {
            "error_x": {
             "color": "#2a3f5f"
            },
            "error_y": {
             "color": "#2a3f5f"
            },
            "marker": {
             "line": {
              "color": "#E5ECF6",
              "width": 0.5
             },
             "pattern": {
              "fillmode": "overlay",
              "size": 10,
              "solidity": 0.2
             }
            },
            "type": "bar"
           }
          ],
          "barpolar": [
           {
            "marker": {
             "line": {
              "color": "#E5ECF6",
              "width": 0.5
             },
             "pattern": {
              "fillmode": "overlay",
              "size": 10,
              "solidity": 0.2
             }
            },
            "type": "barpolar"
           }
          ],
          "carpet": [
           {
            "aaxis": {
             "endlinecolor": "#2a3f5f",
             "gridcolor": "white",
             "linecolor": "white",
             "minorgridcolor": "white",
             "startlinecolor": "#2a3f5f"
            },
            "baxis": {
             "endlinecolor": "#2a3f5f",
             "gridcolor": "white",
             "linecolor": "white",
             "minorgridcolor": "white",
             "startlinecolor": "#2a3f5f"
            },
            "type": "carpet"
           }
          ],
          "choropleth": [
           {
            "colorbar": {
             "outlinewidth": 0,
             "ticks": ""
            },
            "type": "choropleth"
           }
          ],
          "contour": [
           {
            "colorbar": {
             "outlinewidth": 0,
             "ticks": ""
            },
            "colorscale": [
             [
              0,
              "#0d0887"
             ],
             [
              0.1111111111111111,
              "#46039f"
             ],
             [
              0.2222222222222222,
              "#7201a8"
             ],
             [
              0.3333333333333333,
              "#9c179e"
             ],
             [
              0.4444444444444444,
              "#bd3786"
             ],
             [
              0.5555555555555556,
              "#d8576b"
             ],
             [
              0.6666666666666666,
              "#ed7953"
             ],
             [
              0.7777777777777778,
              "#fb9f3a"
             ],
             [
              0.8888888888888888,
              "#fdca26"
             ],
             [
              1,
              "#f0f921"
             ]
            ],
            "type": "contour"
           }
          ],
          "contourcarpet": [
           {
            "colorbar": {
             "outlinewidth": 0,
             "ticks": ""
            },
            "type": "contourcarpet"
           }
          ],
          "heatmap": [
           {
            "colorbar": {
             "outlinewidth": 0,
             "ticks": ""
            },
            "colorscale": [
             [
              0,
              "#0d0887"
             ],
             [
              0.1111111111111111,
              "#46039f"
             ],
             [
              0.2222222222222222,
              "#7201a8"
             ],
             [
              0.3333333333333333,
              "#9c179e"
             ],
             [
              0.4444444444444444,
              "#bd3786"
             ],
             [
              0.5555555555555556,
              "#d8576b"
             ],
             [
              0.6666666666666666,
              "#ed7953"
             ],
             [
              0.7777777777777778,
              "#fb9f3a"
             ],
             [
              0.8888888888888888,
              "#fdca26"
             ],
             [
              1,
              "#f0f921"
             ]
            ],
            "type": "heatmap"
           }
          ],
          "heatmapgl": [
           {
            "colorbar": {
             "outlinewidth": 0,
             "ticks": ""
            },
            "colorscale": [
             [
              0,
              "#0d0887"
             ],
             [
              0.1111111111111111,
              "#46039f"
             ],
             [
              0.2222222222222222,
              "#7201a8"
             ],
             [
              0.3333333333333333,
              "#9c179e"
             ],
             [
              0.4444444444444444,
              "#bd3786"
             ],
             [
              0.5555555555555556,
              "#d8576b"
             ],
             [
              0.6666666666666666,
              "#ed7953"
             ],
             [
              0.7777777777777778,
              "#fb9f3a"
             ],
             [
              0.8888888888888888,
              "#fdca26"
             ],
             [
              1,
              "#f0f921"
             ]
            ],
            "type": "heatmapgl"
           }
          ],
          "histogram": [
           {
            "marker": {
             "pattern": {
              "fillmode": "overlay",
              "size": 10,
              "solidity": 0.2
             }
            },
            "type": "histogram"
           }
          ],
          "histogram2d": [
           {
            "colorbar": {
             "outlinewidth": 0,
             "ticks": ""
            },
            "colorscale": [
             [
              0,
              "#0d0887"
             ],
             [
              0.1111111111111111,
              "#46039f"
             ],
             [
              0.2222222222222222,
              "#7201a8"
             ],
             [
              0.3333333333333333,
              "#9c179e"
             ],
             [
              0.4444444444444444,
              "#bd3786"
             ],
             [
              0.5555555555555556,
              "#d8576b"
             ],
             [
              0.6666666666666666,
              "#ed7953"
             ],
             [
              0.7777777777777778,
              "#fb9f3a"
             ],
             [
              0.8888888888888888,
              "#fdca26"
             ],
             [
              1,
              "#f0f921"
             ]
            ],
            "type": "histogram2d"
           }
          ],
          "histogram2dcontour": [
           {
            "colorbar": {
             "outlinewidth": 0,
             "ticks": ""
            },
            "colorscale": [
             [
              0,
              "#0d0887"
             ],
             [
              0.1111111111111111,
              "#46039f"
             ],
             [
              0.2222222222222222,
              "#7201a8"
             ],
             [
              0.3333333333333333,
              "#9c179e"
             ],
             [
              0.4444444444444444,
              "#bd3786"
             ],
             [
              0.5555555555555556,
              "#d8576b"
             ],
             [
              0.6666666666666666,
              "#ed7953"
             ],
             [
              0.7777777777777778,
              "#fb9f3a"
             ],
             [
              0.8888888888888888,
              "#fdca26"
             ],
             [
              1,
              "#f0f921"
             ]
            ],
            "type": "histogram2dcontour"
           }
          ],
          "mesh3d": [
           {
            "colorbar": {
             "outlinewidth": 0,
             "ticks": ""
            },
            "type": "mesh3d"
           }
          ],
          "parcoords": [
           {
            "line": {
             "colorbar": {
              "outlinewidth": 0,
              "ticks": ""
             }
            },
            "type": "parcoords"
           }
          ],
          "pie": [
           {
            "automargin": true,
            "type": "pie"
           }
          ],
          "scatter": [
           {
            "marker": {
             "colorbar": {
              "outlinewidth": 0,
              "ticks": ""
             }
            },
            "type": "scatter"
           }
          ],
          "scatter3d": [
           {
            "line": {
             "colorbar": {
              "outlinewidth": 0,
              "ticks": ""
             }
            },
            "marker": {
             "colorbar": {
              "outlinewidth": 0,
              "ticks": ""
             }
            },
            "type": "scatter3d"
           }
          ],
          "scattercarpet": [
           {
            "marker": {
             "colorbar": {
              "outlinewidth": 0,
              "ticks": ""
             }
            },
            "type": "scattercarpet"
           }
          ],
          "scattergeo": [
           {
            "marker": {
             "colorbar": {
              "outlinewidth": 0,
              "ticks": ""
             }
            },
            "type": "scattergeo"
           }
          ],
          "scattergl": [
           {
            "marker": {
             "colorbar": {
              "outlinewidth": 0,
              "ticks": ""
             }
            },
            "type": "scattergl"
           }
          ],
          "scattermapbox": [
           {
            "marker": {
             "colorbar": {
              "outlinewidth": 0,
              "ticks": ""
             }
            },
            "type": "scattermapbox"
           }
          ],
          "scatterpolar": [
           {
            "marker": {
             "colorbar": {
              "outlinewidth": 0,
              "ticks": ""
             }
            },
            "type": "scatterpolar"
           }
          ],
          "scatterpolargl": [
           {
            "marker": {
             "colorbar": {
              "outlinewidth": 0,
              "ticks": ""
             }
            },
            "type": "scatterpolargl"
           }
          ],
          "scatterternary": [
           {
            "marker": {
             "colorbar": {
              "outlinewidth": 0,
              "ticks": ""
             }
            },
            "type": "scatterternary"
           }
          ],
          "surface": [
           {
            "colorbar": {
             "outlinewidth": 0,
             "ticks": ""
            },
            "colorscale": [
             [
              0,
              "#0d0887"
             ],
             [
              0.1111111111111111,
              "#46039f"
             ],
             [
              0.2222222222222222,
              "#7201a8"
             ],
             [
              0.3333333333333333,
              "#9c179e"
             ],
             [
              0.4444444444444444,
              "#bd3786"
             ],
             [
              0.5555555555555556,
              "#d8576b"
             ],
             [
              0.6666666666666666,
              "#ed7953"
             ],
             [
              0.7777777777777778,
              "#fb9f3a"
             ],
             [
              0.8888888888888888,
              "#fdca26"
             ],
             [
              1,
              "#f0f921"
             ]
            ],
            "type": "surface"
           }
          ],
          "table": [
           {
            "cells": {
             "fill": {
              "color": "#EBF0F8"
             },
             "line": {
              "color": "white"
             }
            },
            "header": {
             "fill": {
              "color": "#C8D4E3"
             },
             "line": {
              "color": "white"
             }
            },
            "type": "table"
           }
          ]
         },
         "layout": {
          "annotationdefaults": {
           "arrowcolor": "#2a3f5f",
           "arrowhead": 0,
           "arrowwidth": 1
          },
          "autotypenumbers": "strict",
          "coloraxis": {
           "colorbar": {
            "outlinewidth": 0,
            "ticks": ""
           }
          },
          "colorscale": {
           "diverging": [
            [
             0,
             "#8e0152"
            ],
            [
             0.1,
             "#c51b7d"
            ],
            [
             0.2,
             "#de77ae"
            ],
            [
             0.3,
             "#f1b6da"
            ],
            [
             0.4,
             "#fde0ef"
            ],
            [
             0.5,
             "#f7f7f7"
            ],
            [
             0.6,
             "#e6f5d0"
            ],
            [
             0.7,
             "#b8e186"
            ],
            [
             0.8,
             "#7fbc41"
            ],
            [
             0.9,
             "#4d9221"
            ],
            [
             1,
             "#276419"
            ]
           ],
           "sequential": [
            [
             0,
             "#0d0887"
            ],
            [
             0.1111111111111111,
             "#46039f"
            ],
            [
             0.2222222222222222,
             "#7201a8"
            ],
            [
             0.3333333333333333,
             "#9c179e"
            ],
            [
             0.4444444444444444,
             "#bd3786"
            ],
            [
             0.5555555555555556,
             "#d8576b"
            ],
            [
             0.6666666666666666,
             "#ed7953"
            ],
            [
             0.7777777777777778,
             "#fb9f3a"
            ],
            [
             0.8888888888888888,
             "#fdca26"
            ],
            [
             1,
             "#f0f921"
            ]
           ],
           "sequentialminus": [
            [
             0,
             "#0d0887"
            ],
            [
             0.1111111111111111,
             "#46039f"
            ],
            [
             0.2222222222222222,
             "#7201a8"
            ],
            [
             0.3333333333333333,
             "#9c179e"
            ],
            [
             0.4444444444444444,
             "#bd3786"
            ],
            [
             0.5555555555555556,
             "#d8576b"
            ],
            [
             0.6666666666666666,
             "#ed7953"
            ],
            [
             0.7777777777777778,
             "#fb9f3a"
            ],
            [
             0.8888888888888888,
             "#fdca26"
            ],
            [
             1,
             "#f0f921"
            ]
           ]
          },
          "colorway": [
           "#636efa",
           "#EF553B",
           "#00cc96",
           "#ab63fa",
           "#FFA15A",
           "#19d3f3",
           "#FF6692",
           "#B6E880",
           "#FF97FF",
           "#FECB52"
          ],
          "font": {
           "color": "#2a3f5f"
          },
          "geo": {
           "bgcolor": "white",
           "lakecolor": "white",
           "landcolor": "#E5ECF6",
           "showlakes": true,
           "showland": true,
           "subunitcolor": "white"
          },
          "hoverlabel": {
           "align": "left"
          },
          "hovermode": "closest",
          "mapbox": {
           "style": "light"
          },
          "paper_bgcolor": "white",
          "plot_bgcolor": "#E5ECF6",
          "polar": {
           "angularaxis": {
            "gridcolor": "white",
            "linecolor": "white",
            "ticks": ""
           },
           "bgcolor": "#E5ECF6",
           "radialaxis": {
            "gridcolor": "white",
            "linecolor": "white",
            "ticks": ""
           }
          },
          "scene": {
           "xaxis": {
            "backgroundcolor": "#E5ECF6",
            "gridcolor": "white",
            "gridwidth": 2,
            "linecolor": "white",
            "showbackground": true,
            "ticks": "",
            "zerolinecolor": "white"
           },
           "yaxis": {
            "backgroundcolor": "#E5ECF6",
            "gridcolor": "white",
            "gridwidth": 2,
            "linecolor": "white",
            "showbackground": true,
            "ticks": "",
            "zerolinecolor": "white"
           },
           "zaxis": {
            "backgroundcolor": "#E5ECF6",
            "gridcolor": "white",
            "gridwidth": 2,
            "linecolor": "white",
            "showbackground": true,
            "ticks": "",
            "zerolinecolor": "white"
           }
          },
          "shapedefaults": {
           "line": {
            "color": "#2a3f5f"
           }
          },
          "ternary": {
           "aaxis": {
            "gridcolor": "white",
            "linecolor": "white",
            "ticks": ""
           },
           "baxis": {
            "gridcolor": "white",
            "linecolor": "white",
            "ticks": ""
           },
           "bgcolor": "#E5ECF6",
           "caxis": {
            "gridcolor": "white",
            "linecolor": "white",
            "ticks": ""
           }
          },
          "title": {
           "x": 0.05
          },
          "xaxis": {
           "automargin": true,
           "gridcolor": "white",
           "linecolor": "white",
           "ticks": "",
           "title": {
            "standoff": 15
           },
           "zerolinecolor": "white",
           "zerolinewidth": 2
          },
          "yaxis": {
           "automargin": true,
           "gridcolor": "white",
           "linecolor": "white",
           "ticks": "",
           "title": {
            "standoff": 15
           },
           "zerolinecolor": "white",
           "zerolinewidth": 2
          }
         }
        }
       }
      }
     },
     "metadata": {},
     "output_type": "display_data"
    }
   ],
   "source": [
    "fig3 = go.Figure()\n",
    "fig3.add_trace(go.Scatter(x=des['waktu'].iloc[54:], y=des['Xt'].iloc[54:],mode='lines+markers',name='Aktual'))\n",
    "fig3.add_trace(go.Scatter(x=des['waktu'].iloc[54:], y=des['Ft+m'].iloc[54:],mode='lines+markers',name='Prediksi'))\n",
    "fig3.show()"
   ]
  },
  {
   "cell_type": "code",
   "execution_count": 81,
   "id": "5d3fbc82",
   "metadata": {},
   "outputs": [
    {
     "data": {
      "text/html": [
       "<div>\n",
       "<style scoped>\n",
       "    .dataframe tbody tr th:only-of-type {\n",
       "        vertical-align: middle;\n",
       "    }\n",
       "\n",
       "    .dataframe tbody tr th {\n",
       "        vertical-align: top;\n",
       "    }\n",
       "\n",
       "    .dataframe thead th {\n",
       "        text-align: right;\n",
       "    }\n",
       "</style>\n",
       "<table border=\"1\" class=\"dataframe\">\n",
       "  <thead>\n",
       "    <tr style=\"text-align: right;\">\n",
       "      <th></th>\n",
       "      <th>waktu</th>\n",
       "      <th>Xt</th>\n",
       "      <th>St</th>\n",
       "      <th>St2</th>\n",
       "      <th>a</th>\n",
       "      <th>b</th>\n",
       "      <th>Ft+m</th>\n",
       "      <th>Yt-Ft</th>\n",
       "    </tr>\n",
       "  </thead>\n",
       "  <tbody>\n",
       "    <tr>\n",
       "      <th>100</th>\n",
       "      <td>1/Dec</td>\n",
       "      <td>10.0</td>\n",
       "      <td>9.9902</td>\n",
       "      <td>9.980696</td>\n",
       "      <td>9.999704</td>\n",
       "      <td>0.9409</td>\n",
       "      <td>7.0403</td>\n",
       "      <td>0.29597</td>\n",
       "    </tr>\n",
       "    <tr>\n",
       "      <th>101</th>\n",
       "      <td>2/Dec</td>\n",
       "      <td>13.0</td>\n",
       "      <td>12.969902</td>\n",
       "      <td>12.94001</td>\n",
       "      <td>12.999794</td>\n",
       "      <td>2.959314</td>\n",
       "      <td>10.940604</td>\n",
       "      <td>0.158415</td>\n",
       "    </tr>\n",
       "    <tr>\n",
       "      <th>102</th>\n",
       "      <td>3/Dec</td>\n",
       "      <td>12.0</td>\n",
       "      <td>12.009699</td>\n",
       "      <td>12.019002</td>\n",
       "      <td>12.000396</td>\n",
       "      <td>-0.921008</td>\n",
       "      <td>15.959108</td>\n",
       "      <td>0.329926</td>\n",
       "    </tr>\n",
       "    <tr>\n",
       "      <th>103</th>\n",
       "      <td>4/Dec</td>\n",
       "      <td>11.0</td>\n",
       "      <td>11.010097</td>\n",
       "      <td>11.020186</td>\n",
       "      <td>11.000008</td>\n",
       "      <td>-0.998816</td>\n",
       "      <td>11.079388</td>\n",
       "      <td>0.007217</td>\n",
       "    </tr>\n",
       "    <tr>\n",
       "      <th>104</th>\n",
       "      <td>5/Dec</td>\n",
       "      <td>11.0</td>\n",
       "      <td>11.000101</td>\n",
       "      <td>11.000302</td>\n",
       "      <td>10.9999</td>\n",
       "      <td>-0.019884</td>\n",
       "      <td>10.001192</td>\n",
       "      <td>0.090801</td>\n",
       "    </tr>\n",
       "    <tr>\n",
       "      <th>105</th>\n",
       "      <td>6/Dec</td>\n",
       "      <td>10.0</td>\n",
       "      <td>10.010001</td>\n",
       "      <td>10.019904</td>\n",
       "      <td>10.000098</td>\n",
       "      <td>-0.980398</td>\n",
       "      <td>10.980016</td>\n",
       "      <td>0.098002</td>\n",
       "    </tr>\n",
       "    <tr>\n",
       "      <th>106</th>\n",
       "      <td>7/Dec</td>\n",
       "      <td>10.0</td>\n",
       "      <td>10.0001</td>\n",
       "      <td>10.000298</td>\n",
       "      <td>9.999902</td>\n",
       "      <td>-0.019606</td>\n",
       "      <td>9.0197</td>\n",
       "      <td>0.09803</td>\n",
       "    </tr>\n",
       "    <tr>\n",
       "      <th>107</th>\n",
       "      <td>8/Dec</td>\n",
       "      <td>8.0</td>\n",
       "      <td>8.020001</td>\n",
       "      <td>8.039804</td>\n",
       "      <td>8.000198</td>\n",
       "      <td>-1.960494</td>\n",
       "      <td>9.980296</td>\n",
       "      <td>0.247537</td>\n",
       "    </tr>\n",
       "    <tr>\n",
       "      <th>108</th>\n",
       "      <td>9/Dec</td>\n",
       "      <td>NaN</td>\n",
       "      <td>NaN</td>\n",
       "      <td>NaN</td>\n",
       "      <td>NaN</td>\n",
       "      <td>NaN</td>\n",
       "      <td>6.039704</td>\n",
       "      <td>NaN</td>\n",
       "    </tr>\n",
       "    <tr>\n",
       "      <th>109</th>\n",
       "      <td>10/Dec</td>\n",
       "      <td>NaN</td>\n",
       "      <td>NaN</td>\n",
       "      <td>NaN</td>\n",
       "      <td>NaN</td>\n",
       "      <td>NaN</td>\n",
       "      <td>4.07921</td>\n",
       "      <td>NaN</td>\n",
       "    </tr>\n",
       "    <tr>\n",
       "      <th>110</th>\n",
       "      <td>11/Dec</td>\n",
       "      <td>NaN</td>\n",
       "      <td>NaN</td>\n",
       "      <td>NaN</td>\n",
       "      <td>NaN</td>\n",
       "      <td>NaN</td>\n",
       "      <td>2.118716</td>\n",
       "      <td>NaN</td>\n",
       "    </tr>\n",
       "    <tr>\n",
       "      <th>111</th>\n",
       "      <td>12/Dec</td>\n",
       "      <td>NaN</td>\n",
       "      <td>NaN</td>\n",
       "      <td>NaN</td>\n",
       "      <td>NaN</td>\n",
       "      <td>NaN</td>\n",
       "      <td>0.158222</td>\n",
       "      <td>NaN</td>\n",
       "    </tr>\n",
       "    <tr>\n",
       "      <th>112</th>\n",
       "      <td>13/Dec</td>\n",
       "      <td>NaN</td>\n",
       "      <td>NaN</td>\n",
       "      <td>NaN</td>\n",
       "      <td>NaN</td>\n",
       "      <td>NaN</td>\n",
       "      <td>-1.802272</td>\n",
       "      <td>NaN</td>\n",
       "    </tr>\n",
       "  </tbody>\n",
       "</table>\n",
       "</div>"
      ],
      "text/plain": [
       "      waktu    Xt         St        St2          a         b       Ft+m  \\\n",
       "100   1/Dec  10.0     9.9902   9.980696   9.999704    0.9409     7.0403   \n",
       "101   2/Dec  13.0  12.969902   12.94001  12.999794  2.959314  10.940604   \n",
       "102   3/Dec  12.0  12.009699  12.019002  12.000396 -0.921008  15.959108   \n",
       "103   4/Dec  11.0  11.010097  11.020186  11.000008 -0.998816  11.079388   \n",
       "104   5/Dec  11.0  11.000101  11.000302    10.9999 -0.019884  10.001192   \n",
       "105   6/Dec  10.0  10.010001  10.019904  10.000098 -0.980398  10.980016   \n",
       "106   7/Dec  10.0    10.0001  10.000298   9.999902 -0.019606     9.0197   \n",
       "107   8/Dec   8.0   8.020001   8.039804   8.000198 -1.960494   9.980296   \n",
       "108   9/Dec   NaN        NaN        NaN        NaN       NaN   6.039704   \n",
       "109  10/Dec   NaN        NaN        NaN        NaN       NaN    4.07921   \n",
       "110  11/Dec   NaN        NaN        NaN        NaN       NaN   2.118716   \n",
       "111  12/Dec   NaN        NaN        NaN        NaN       NaN   0.158222   \n",
       "112  13/Dec   NaN        NaN        NaN        NaN       NaN  -1.802272   \n",
       "\n",
       "        Yt-Ft  \n",
       "100   0.29597  \n",
       "101  0.158415  \n",
       "102  0.329926  \n",
       "103  0.007217  \n",
       "104  0.090801  \n",
       "105  0.098002  \n",
       "106   0.09803  \n",
       "107  0.247537  \n",
       "108       NaN  \n",
       "109       NaN  \n",
       "110       NaN  \n",
       "111       NaN  \n",
       "112       NaN  "
      ]
     },
     "execution_count": 81,
     "metadata": {},
     "output_type": "execute_result"
    }
   ],
   "source": [
    "a = des['a'].iloc[-1]\n",
    "b = des['b'].iloc[-1]\n",
    "predict = pd.DataFrame(des)\n",
    "\n",
    "hari = ['9/Dec','10/Dec','11/Dec','12/Dec','13/Dec']\n",
    "# prediksi 7 hari kedepan\n",
    "dfNew = pd.DataFrame()\n",
    "for m in range(len(hari)):\n",
    "    Ftm = a + b*(m+1)\n",
    "    # print(m+1)\n",
    "    dict = {'waktu': hari[m], 'Ft+m':Ftm}\n",
    "    predict = predict.append(dict,ignore_index=True)\n",
    "\n",
    "predict.iloc[100:]"
   ]
  },
  {
   "cell_type": "code",
   "execution_count": 82,
   "id": "eaf7c04d",
   "metadata": {},
   "outputs": [
    {
     "data": {
      "application/vnd.plotly.v1+json": {
       "config": {
        "plotlyServerURL": "https://plot.ly"
       },
       "data": [
        {
         "mode": "lines+markers",
         "name": "Aktual",
         "type": "scatter",
         "x": [
          "16/Oct",
          "17/Oct",
          "18/Oct",
          "19/Oct",
          "20/Oct",
          "21/Oct",
          "22/Oct",
          "23/Oct",
          "24/Oct",
          "25/Oct",
          "26/Oct",
          "27/Oct",
          "28/Oct",
          "29/Oct",
          "30/Oct",
          "31/Oct",
          "1/Nov",
          "2/Nov",
          "3/Nov",
          "4/Nov",
          "5/Nov",
          "6/Nov",
          "7/Nov",
          "8/Nov",
          "9/Nov",
          "10/Nov",
          "11/Nov",
          "12/Nov",
          "13/Nov",
          "14/Nov",
          "15/Nov",
          "16/Nov",
          "17/Nov",
          "18/Nov",
          "19/Nov",
          "20/Nov",
          "21/Nov",
          "22/Nov",
          "23/Nov",
          "24/Nov",
          "25/Nov",
          "26/Nov",
          "27/Nov",
          "28/Nov",
          "29/Nov",
          "30/Nov",
          "1/Dec",
          "2/Dec",
          "3/Dec",
          "4/Dec",
          "5/Dec",
          "6/Dec",
          "7/Dec",
          "8/Dec",
          "9/Dec",
          "10/Dec",
          "11/Dec",
          "12/Dec",
          "13/Dec"
         ],
         "y": [
          23,
          23,
          26,
          26,
          28,
          29,
          24,
          26,
          21,
          20,
          20,
          18,
          19,
          18,
          20,
          17,
          16,
          16,
          14,
          14,
          9,
          6,
          4,
          5,
          6,
          9,
          9,
          9,
          9,
          9,
          10,
          10,
          12,
          8,
          8,
          8,
          9,
          9,
          8,
          7,
          7,
          9,
          10,
          11,
          11,
          9,
          10,
          13,
          12,
          11,
          11,
          10,
          10,
          8,
          null,
          null,
          null,
          null,
          null
         ]
        },
        {
         "mode": "lines+markers",
         "name": "Prediksi",
         "type": "scatter",
         "x": [
          "16/Oct",
          "17/Oct",
          "18/Oct",
          "19/Oct",
          "20/Oct",
          "21/Oct",
          "22/Oct",
          "23/Oct",
          "24/Oct",
          "25/Oct",
          "26/Oct",
          "27/Oct",
          "28/Oct",
          "29/Oct",
          "30/Oct",
          "31/Oct",
          "1/Nov",
          "2/Nov",
          "3/Nov",
          "4/Nov",
          "5/Nov",
          "6/Nov",
          "7/Nov",
          "8/Nov",
          "9/Nov",
          "10/Nov",
          "11/Nov",
          "12/Nov",
          "13/Nov",
          "14/Nov",
          "15/Nov",
          "16/Nov",
          "17/Nov",
          "18/Nov",
          "19/Nov",
          "20/Nov",
          "21/Nov",
          "22/Nov",
          "23/Nov",
          "24/Nov",
          "25/Nov",
          "26/Nov",
          "27/Nov",
          "28/Nov",
          "29/Nov",
          "30/Nov",
          "1/Dec",
          "2/Dec",
          "3/Dec",
          "4/Dec",
          "5/Dec",
          "6/Dec",
          "7/Dec",
          "8/Dec",
          "9/Dec",
          "10/Dec",
          "11/Dec",
          "12/Dec",
          "13/Dec"
         ],
         "y": [
          18.039407899979167,
          25.900592098799812,
          23.058507901185724,
          28.94088009881403,
          26.059111751186116,
          29.960888147014032,
          30.019411851765156,
          19.120292148220493,
          27.861803901779243,
          16.1379240488209,
          18.92207230058626,
          19.978827653606594,
          16.039684345842375,
          19.940595804151464,
          17.03910794764861,
          21.94058809937259,
          14.099107851192922,
          14.961488098213948,
          15.979419851179234,
          12.039692248213665,
          13.960595902979051,
          4.0994079488348865,
          2.9614920993863905,
          1.9794199011928173,
          5.939692248813903,
          6.9990959029861655,
          11.959987948834918,
          9.05939984938626,
          9.000891998192799,
          9.000011899979055,
          9.000000148799812,
          10.98000000178596,
          10.019700000020856,
          13.96029600000024,
          4.119403949999997,
          7.921792049400024,
          7.998823900593074,
          9.97998429880695,
          9.019699803586114,
          7.020295997641839,
          6.000303949972463,
          6.9800040493997075,
          10.959700050592984,
          11.01939600060684,
          12.000291950007075,
          11.020003899399999,
          7.040300048793032,
          10.940604000585934,
          15.959108050006794,
          11.079388100599997,
          10.001191851207047,
          10.98001589821422,
          9.019700198779201,
          9.980296002385748,
          6.039703950027718,
          4.079209870455198,
          2.1187157908826784,
          0.1582217113101585,
          -1.8022723682623614
         ]
        }
       ],
       "layout": {
        "template": {
         "data": {
          "bar": [
           {
            "error_x": {
             "color": "#2a3f5f"
            },
            "error_y": {
             "color": "#2a3f5f"
            },
            "marker": {
             "line": {
              "color": "#E5ECF6",
              "width": 0.5
             },
             "pattern": {
              "fillmode": "overlay",
              "size": 10,
              "solidity": 0.2
             }
            },
            "type": "bar"
           }
          ],
          "barpolar": [
           {
            "marker": {
             "line": {
              "color": "#E5ECF6",
              "width": 0.5
             },
             "pattern": {
              "fillmode": "overlay",
              "size": 10,
              "solidity": 0.2
             }
            },
            "type": "barpolar"
           }
          ],
          "carpet": [
           {
            "aaxis": {
             "endlinecolor": "#2a3f5f",
             "gridcolor": "white",
             "linecolor": "white",
             "minorgridcolor": "white",
             "startlinecolor": "#2a3f5f"
            },
            "baxis": {
             "endlinecolor": "#2a3f5f",
             "gridcolor": "white",
             "linecolor": "white",
             "minorgridcolor": "white",
             "startlinecolor": "#2a3f5f"
            },
            "type": "carpet"
           }
          ],
          "choropleth": [
           {
            "colorbar": {
             "outlinewidth": 0,
             "ticks": ""
            },
            "type": "choropleth"
           }
          ],
          "contour": [
           {
            "colorbar": {
             "outlinewidth": 0,
             "ticks": ""
            },
            "colorscale": [
             [
              0,
              "#0d0887"
             ],
             [
              0.1111111111111111,
              "#46039f"
             ],
             [
              0.2222222222222222,
              "#7201a8"
             ],
             [
              0.3333333333333333,
              "#9c179e"
             ],
             [
              0.4444444444444444,
              "#bd3786"
             ],
             [
              0.5555555555555556,
              "#d8576b"
             ],
             [
              0.6666666666666666,
              "#ed7953"
             ],
             [
              0.7777777777777778,
              "#fb9f3a"
             ],
             [
              0.8888888888888888,
              "#fdca26"
             ],
             [
              1,
              "#f0f921"
             ]
            ],
            "type": "contour"
           }
          ],
          "contourcarpet": [
           {
            "colorbar": {
             "outlinewidth": 0,
             "ticks": ""
            },
            "type": "contourcarpet"
           }
          ],
          "heatmap": [
           {
            "colorbar": {
             "outlinewidth": 0,
             "ticks": ""
            },
            "colorscale": [
             [
              0,
              "#0d0887"
             ],
             [
              0.1111111111111111,
              "#46039f"
             ],
             [
              0.2222222222222222,
              "#7201a8"
             ],
             [
              0.3333333333333333,
              "#9c179e"
             ],
             [
              0.4444444444444444,
              "#bd3786"
             ],
             [
              0.5555555555555556,
              "#d8576b"
             ],
             [
              0.6666666666666666,
              "#ed7953"
             ],
             [
              0.7777777777777778,
              "#fb9f3a"
             ],
             [
              0.8888888888888888,
              "#fdca26"
             ],
             [
              1,
              "#f0f921"
             ]
            ],
            "type": "heatmap"
           }
          ],
          "heatmapgl": [
           {
            "colorbar": {
             "outlinewidth": 0,
             "ticks": ""
            },
            "colorscale": [
             [
              0,
              "#0d0887"
             ],
             [
              0.1111111111111111,
              "#46039f"
             ],
             [
              0.2222222222222222,
              "#7201a8"
             ],
             [
              0.3333333333333333,
              "#9c179e"
             ],
             [
              0.4444444444444444,
              "#bd3786"
             ],
             [
              0.5555555555555556,
              "#d8576b"
             ],
             [
              0.6666666666666666,
              "#ed7953"
             ],
             [
              0.7777777777777778,
              "#fb9f3a"
             ],
             [
              0.8888888888888888,
              "#fdca26"
             ],
             [
              1,
              "#f0f921"
             ]
            ],
            "type": "heatmapgl"
           }
          ],
          "histogram": [
           {
            "marker": {
             "pattern": {
              "fillmode": "overlay",
              "size": 10,
              "solidity": 0.2
             }
            },
            "type": "histogram"
           }
          ],
          "histogram2d": [
           {
            "colorbar": {
             "outlinewidth": 0,
             "ticks": ""
            },
            "colorscale": [
             [
              0,
              "#0d0887"
             ],
             [
              0.1111111111111111,
              "#46039f"
             ],
             [
              0.2222222222222222,
              "#7201a8"
             ],
             [
              0.3333333333333333,
              "#9c179e"
             ],
             [
              0.4444444444444444,
              "#bd3786"
             ],
             [
              0.5555555555555556,
              "#d8576b"
             ],
             [
              0.6666666666666666,
              "#ed7953"
             ],
             [
              0.7777777777777778,
              "#fb9f3a"
             ],
             [
              0.8888888888888888,
              "#fdca26"
             ],
             [
              1,
              "#f0f921"
             ]
            ],
            "type": "histogram2d"
           }
          ],
          "histogram2dcontour": [
           {
            "colorbar": {
             "outlinewidth": 0,
             "ticks": ""
            },
            "colorscale": [
             [
              0,
              "#0d0887"
             ],
             [
              0.1111111111111111,
              "#46039f"
             ],
             [
              0.2222222222222222,
              "#7201a8"
             ],
             [
              0.3333333333333333,
              "#9c179e"
             ],
             [
              0.4444444444444444,
              "#bd3786"
             ],
             [
              0.5555555555555556,
              "#d8576b"
             ],
             [
              0.6666666666666666,
              "#ed7953"
             ],
             [
              0.7777777777777778,
              "#fb9f3a"
             ],
             [
              0.8888888888888888,
              "#fdca26"
             ],
             [
              1,
              "#f0f921"
             ]
            ],
            "type": "histogram2dcontour"
           }
          ],
          "mesh3d": [
           {
            "colorbar": {
             "outlinewidth": 0,
             "ticks": ""
            },
            "type": "mesh3d"
           }
          ],
          "parcoords": [
           {
            "line": {
             "colorbar": {
              "outlinewidth": 0,
              "ticks": ""
             }
            },
            "type": "parcoords"
           }
          ],
          "pie": [
           {
            "automargin": true,
            "type": "pie"
           }
          ],
          "scatter": [
           {
            "marker": {
             "colorbar": {
              "outlinewidth": 0,
              "ticks": ""
             }
            },
            "type": "scatter"
           }
          ],
          "scatter3d": [
           {
            "line": {
             "colorbar": {
              "outlinewidth": 0,
              "ticks": ""
             }
            },
            "marker": {
             "colorbar": {
              "outlinewidth": 0,
              "ticks": ""
             }
            },
            "type": "scatter3d"
           }
          ],
          "scattercarpet": [
           {
            "marker": {
             "colorbar": {
              "outlinewidth": 0,
              "ticks": ""
             }
            },
            "type": "scattercarpet"
           }
          ],
          "scattergeo": [
           {
            "marker": {
             "colorbar": {
              "outlinewidth": 0,
              "ticks": ""
             }
            },
            "type": "scattergeo"
           }
          ],
          "scattergl": [
           {
            "marker": {
             "colorbar": {
              "outlinewidth": 0,
              "ticks": ""
             }
            },
            "type": "scattergl"
           }
          ],
          "scattermapbox": [
           {
            "marker": {
             "colorbar": {
              "outlinewidth": 0,
              "ticks": ""
             }
            },
            "type": "scattermapbox"
           }
          ],
          "scatterpolar": [
           {
            "marker": {
             "colorbar": {
              "outlinewidth": 0,
              "ticks": ""
             }
            },
            "type": "scatterpolar"
           }
          ],
          "scatterpolargl": [
           {
            "marker": {
             "colorbar": {
              "outlinewidth": 0,
              "ticks": ""
             }
            },
            "type": "scatterpolargl"
           }
          ],
          "scatterternary": [
           {
            "marker": {
             "colorbar": {
              "outlinewidth": 0,
              "ticks": ""
             }
            },
            "type": "scatterternary"
           }
          ],
          "surface": [
           {
            "colorbar": {
             "outlinewidth": 0,
             "ticks": ""
            },
            "colorscale": [
             [
              0,
              "#0d0887"
             ],
             [
              0.1111111111111111,
              "#46039f"
             ],
             [
              0.2222222222222222,
              "#7201a8"
             ],
             [
              0.3333333333333333,
              "#9c179e"
             ],
             [
              0.4444444444444444,
              "#bd3786"
             ],
             [
              0.5555555555555556,
              "#d8576b"
             ],
             [
              0.6666666666666666,
              "#ed7953"
             ],
             [
              0.7777777777777778,
              "#fb9f3a"
             ],
             [
              0.8888888888888888,
              "#fdca26"
             ],
             [
              1,
              "#f0f921"
             ]
            ],
            "type": "surface"
           }
          ],
          "table": [
           {
            "cells": {
             "fill": {
              "color": "#EBF0F8"
             },
             "line": {
              "color": "white"
             }
            },
            "header": {
             "fill": {
              "color": "#C8D4E3"
             },
             "line": {
              "color": "white"
             }
            },
            "type": "table"
           }
          ]
         },
         "layout": {
          "annotationdefaults": {
           "arrowcolor": "#2a3f5f",
           "arrowhead": 0,
           "arrowwidth": 1
          },
          "autotypenumbers": "strict",
          "coloraxis": {
           "colorbar": {
            "outlinewidth": 0,
            "ticks": ""
           }
          },
          "colorscale": {
           "diverging": [
            [
             0,
             "#8e0152"
            ],
            [
             0.1,
             "#c51b7d"
            ],
            [
             0.2,
             "#de77ae"
            ],
            [
             0.3,
             "#f1b6da"
            ],
            [
             0.4,
             "#fde0ef"
            ],
            [
             0.5,
             "#f7f7f7"
            ],
            [
             0.6,
             "#e6f5d0"
            ],
            [
             0.7,
             "#b8e186"
            ],
            [
             0.8,
             "#7fbc41"
            ],
            [
             0.9,
             "#4d9221"
            ],
            [
             1,
             "#276419"
            ]
           ],
           "sequential": [
            [
             0,
             "#0d0887"
            ],
            [
             0.1111111111111111,
             "#46039f"
            ],
            [
             0.2222222222222222,
             "#7201a8"
            ],
            [
             0.3333333333333333,
             "#9c179e"
            ],
            [
             0.4444444444444444,
             "#bd3786"
            ],
            [
             0.5555555555555556,
             "#d8576b"
            ],
            [
             0.6666666666666666,
             "#ed7953"
            ],
            [
             0.7777777777777778,
             "#fb9f3a"
            ],
            [
             0.8888888888888888,
             "#fdca26"
            ],
            [
             1,
             "#f0f921"
            ]
           ],
           "sequentialminus": [
            [
             0,
             "#0d0887"
            ],
            [
             0.1111111111111111,
             "#46039f"
            ],
            [
             0.2222222222222222,
             "#7201a8"
            ],
            [
             0.3333333333333333,
             "#9c179e"
            ],
            [
             0.4444444444444444,
             "#bd3786"
            ],
            [
             0.5555555555555556,
             "#d8576b"
            ],
            [
             0.6666666666666666,
             "#ed7953"
            ],
            [
             0.7777777777777778,
             "#fb9f3a"
            ],
            [
             0.8888888888888888,
             "#fdca26"
            ],
            [
             1,
             "#f0f921"
            ]
           ]
          },
          "colorway": [
           "#636efa",
           "#EF553B",
           "#00cc96",
           "#ab63fa",
           "#FFA15A",
           "#19d3f3",
           "#FF6692",
           "#B6E880",
           "#FF97FF",
           "#FECB52"
          ],
          "font": {
           "color": "#2a3f5f"
          },
          "geo": {
           "bgcolor": "white",
           "lakecolor": "white",
           "landcolor": "#E5ECF6",
           "showlakes": true,
           "showland": true,
           "subunitcolor": "white"
          },
          "hoverlabel": {
           "align": "left"
          },
          "hovermode": "closest",
          "mapbox": {
           "style": "light"
          },
          "paper_bgcolor": "white",
          "plot_bgcolor": "#E5ECF6",
          "polar": {
           "angularaxis": {
            "gridcolor": "white",
            "linecolor": "white",
            "ticks": ""
           },
           "bgcolor": "#E5ECF6",
           "radialaxis": {
            "gridcolor": "white",
            "linecolor": "white",
            "ticks": ""
           }
          },
          "scene": {
           "xaxis": {
            "backgroundcolor": "#E5ECF6",
            "gridcolor": "white",
            "gridwidth": 2,
            "linecolor": "white",
            "showbackground": true,
            "ticks": "",
            "zerolinecolor": "white"
           },
           "yaxis": {
            "backgroundcolor": "#E5ECF6",
            "gridcolor": "white",
            "gridwidth": 2,
            "linecolor": "white",
            "showbackground": true,
            "ticks": "",
            "zerolinecolor": "white"
           },
           "zaxis": {
            "backgroundcolor": "#E5ECF6",
            "gridcolor": "white",
            "gridwidth": 2,
            "linecolor": "white",
            "showbackground": true,
            "ticks": "",
            "zerolinecolor": "white"
           }
          },
          "shapedefaults": {
           "line": {
            "color": "#2a3f5f"
           }
          },
          "ternary": {
           "aaxis": {
            "gridcolor": "white",
            "linecolor": "white",
            "ticks": ""
           },
           "baxis": {
            "gridcolor": "white",
            "linecolor": "white",
            "ticks": ""
           },
           "bgcolor": "#E5ECF6",
           "caxis": {
            "gridcolor": "white",
            "linecolor": "white",
            "ticks": ""
           }
          },
          "title": {
           "x": 0.05
          },
          "xaxis": {
           "automargin": true,
           "gridcolor": "white",
           "linecolor": "white",
           "ticks": "",
           "title": {
            "standoff": 15
           },
           "zerolinecolor": "white",
           "zerolinewidth": 2
          },
          "yaxis": {
           "automargin": true,
           "gridcolor": "white",
           "linecolor": "white",
           "ticks": "",
           "title": {
            "standoff": 15
           },
           "zerolinecolor": "white",
           "zerolinewidth": 2
          }
         }
        }
       }
      }
     },
     "metadata": {},
     "output_type": "display_data"
    }
   ],
   "source": [
    "fig4 = go.Figure()\n",
    "fig4.add_trace(go.Scatter(x=predict['waktu'].iloc[54:], y=predict['Xt'].iloc[54:],mode='lines+markers',name='Aktual'))\n",
    "fig4.add_trace(go.Scatter(x=predict['waktu'].iloc[54:], y=predict['Ft+m'].iloc[54:],mode='lines+markers',name='Prediksi'))\n",
    "fig4.show()"
   ]
  }
 ],
 "metadata": {
  "interpreter": {
   "hash": "df78395c21b98b3a28a8b62af21b3c5d16e295ef0e828ed5af2c7ed97d892438"
  },
  "kernelspec": {
   "display_name": "Python 3.9.5 64-bit",
   "language": "python",
   "name": "python3"
  },
  "language_info": {
   "codemirror_mode": {
    "name": "ipython",
    "version": 3
   },
   "file_extension": ".py",
   "mimetype": "text/x-python",
   "name": "python",
   "nbconvert_exporter": "python",
   "pygments_lexer": "ipython3",
   "version": "3.9.5"
  }
 },
 "nbformat": 4,
 "nbformat_minor": 5
}
